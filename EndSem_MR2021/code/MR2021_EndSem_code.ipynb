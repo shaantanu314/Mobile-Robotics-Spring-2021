{
 "cells": [
  {
   "cell_type": "code",
   "execution_count": 38,
   "id": "bc6fb49d",
   "metadata": {},
   "outputs": [],
   "source": [
    "import open3d\n",
    "import numpy as np\n",
    "import util\n",
    "import matplotlib.pyplot as plt\n",
    "import math"
   ]
  },
  {
   "cell_type": "markdown",
   "id": "e4422c5e",
   "metadata": {},
   "source": [
    "**1. Optimization**: You are given the function:  exp(a * x) * sin(x) + b. Implement Levenberg Marquadt using numpy and solve for the parameters of the above function. Optimize for the following parameters: a=2, b = 1. Do this for 50 observations that lie between 1 and 20. Plot the loss values over time and data fit curves. Ensure that your initial estimates are not very close to the final parameters. Write down the jacobian formula in the notebook. **\\[3 points\\]**"
   ]
  },
  {
   "cell_type": "code",
   "execution_count": 19,
   "id": "aa19979a",
   "metadata": {},
   "outputs": [],
   "source": [
    "def get_Jr(y_exp,x,a,b):\n",
    "    da = -(x*np.exp(-a*x))*np.sin(x)\n",
    "    db = np.ones(np.shape(x))\n",
    "    Jr = np.array([da,db]).T\n",
    "    return Jr\n",
    "\n",
    "def get_residue(y,y_o):\n",
    "    return y-y_o\n",
    "\n"
   ]
  },
  {
   "cell_type": "code",
   "execution_count": 27,
   "id": "02032d77",
   "metadata": {},
   "outputs": [
    {
     "name": "stdout",
     "output_type": "stream",
     "text": [
      "1.9999954421463435 1.0000000030415297\n"
     ]
    },
    {
     "data": {
      "image/png": "[encoded data removed]",
      "text/plain": [
       "<Figure size 1152x576 with 2 Axes>"
      ]
     },
     "metadata": {
      "needs_background": "light"
     },
     "output_type": "display_data"
    }
   ],
   "source": [
    "num_obs = 50\n",
    "a_gt ,b_gt = 2,1\n",
    "x_o = np.linspace(1,20,num_obs)\n",
    "y_o = np.exp(-a_gt*x_o)*np.sin(x_o) + b_gt\n",
    "\n",
    "\n",
    "epoch =10\n",
    "\n",
    "a,b = np.random.random()*10,np.random.random()\n",
    "cost = []\n",
    "\n",
    "identity = np.eye(2,2)\n",
    "Lambda = 1\n",
    "\n",
    "for i in range(epoch):\n",
    "    \n",
    "    y = np.exp(-a*x_o)*np.sin(x_o) + b\n",
    "    \n",
    "    Jr = get_Jr(y,x_o,a,b)\n",
    "    r  = get_residue(y,y_o)\n",
    "    \n",
    "    Jf = np.matmul(np.matmul(np.linalg.pinv(np.matmul(Jr.T,Jr)+Lambda*identity),Jr.T),r)\n",
    "    \n",
    "    dk = -Jf\n",
    "    \n",
    "    a_prev,b_prev = a,b\n",
    "    \n",
    "    a,b = a+dk[0],b+dk[1]\n",
    "    \n",
    "    cost.append(np.sum(r**2))\n",
    "\n",
    "    if i == 0:\n",
    "        continue\n",
    "    \n",
    "    if cost[i] > cost[i-1]:\n",
    "        a,m,s = a_prev,m_prev,s_prev\n",
    "        Lambda = Lambda*10\n",
    "    else:\n",
    "        Lambda = Lambda*0.1\n",
    "        \n",
    "plt.figure(figsize=(16,8))\n",
    "plt.subplot(1,2,1)\n",
    "plt.plot(cost)\n",
    "plt.title('Loss Function')\n",
    "plt.xlabel('iterations')\n",
    "plt.ylabel('Loss')\n",
    "plt.subplot(1,2,2)\n",
    "plt.plot(x_o,make_y(x_o,a,b),marker=\"x\")\n",
    "plt.plot(x_o,y_o,color=\"r\")\n",
    "plt.legend([\"ground truth\",\"predicted\"])\n",
    "print(a,b)"
   ]
  },
  {
   "cell_type": "markdown",
   "id": "015d1801",
   "metadata": {},
   "source": [
    "**2. Linear least square**: You are given a bin file from the Kitti raw sequence. Estimate the ground plane from the given bin file. After estimating the ground plane, visualize this in open3d by drawing 200-300 points on the ground with a different color on top of the plot obtained from the LiDAR scan. Use RANSAC to estimate the ground plane. Will this work without RANSAC? Why or Why not? Write down the equation of the ground plane obtained and also mention the parameters used for doing RANSAC  **\\[6 points\\]**\n",
    "\n",
    "Expected result is displayed here:\n",
    "\n",
    "![output](./data/groundplane.png)"
   ]
  },
  {
   "cell_type": "code",
   "execution_count": 53,
   "id": "13125782",
   "metadata": {},
   "outputs": [],
   "source": [
    "def read_bin_file(file_name):\n",
    "    '''\n",
    "    Read the bin file\n",
    "    '''\n",
    "    points = np.fromfile(file_name, dtype=np.float32).reshape(-1, 4)\n",
    "    points = points[:,:3]                # exclude reflectance values, becomes [X Y Z]\n",
    "    points = points[1::5,:]              # remove every 5th point for display speed (optional)\n",
    "    return points"
   ]
  },
  {
   "cell_type": "code",
   "execution_count": 54,
   "id": "ec98e64a",
   "metadata": {},
   "outputs": [],
   "source": [
    "filename = \"./data/000013.bin\"\n",
    "points = read_bin_file(filename)\n",
    "\n",
    "# Function used to visualize point clouds, takes a list of 3 x N numpy array as input and plots\n",
    "util.visualize_pointclouds([points.T])"
   ]
  },
  {
   "cell_type": "code",
   "execution_count": 93,
   "id": "0250bb24",
   "metadata": {},
   "outputs": [
    {
     "name": "stdout",
     "output_type": "stream",
     "text": [
      "[-0.28839505, 3.3890676, 9.477919, -0.0051288605]\n"
     ]
    }
   ],
   "source": [
    "MAX_ITERATION = 100\n",
    "threshold = 0.5\n",
    "max_inliers = 0\n",
    "params = None\n",
    "for i in range(MAX_ITERATION):\n",
    "    index = np.random.randint(low = 0,high = points.shape[0] , size = 3)\n",
    "    X = points[index]\n",
    "    # Equation of plane\n",
    "    \n",
    "    x1 = X[0][0]\n",
    "    x2 = X[1][0]\n",
    "    x3 = X[2][0]\n",
    "    y1 = X[0][1]\n",
    "    y2 = X[1][1]\n",
    "    y3 = X[2][1]\n",
    "    z1 = X[0][2]\n",
    "    z2 = X[1][2]\n",
    "    z3 = X[2][2]\n",
    "    \n",
    "    a = (y2-y1)*(z3-z1) - (z2-z1)*(y3-y2)\n",
    "    b = (z2-z1)*(x3-x1)-(x2-x1)*(z3-z2)\n",
    "    c = (x2-x1)*(y3-y1) - (y2-y1)*(x3-x2)\n",
    "    d = -(a*X[0][0] + b*X[0][1] + c*X[0][2])\n",
    "    div = math.sqrt(a*a + b*b + c*c)\n",
    "    \n",
    "    pnt_cnt = 0\n",
    "    \n",
    "    d_ = []\n",
    "    for p in points:\n",
    "        dist = abs(a*p[0] + b*p[1] +c*p[2])/div\n",
    "        d_.append(dist)\n",
    "        if dist < threshold:\n",
    "            pnt_cnt = pnt_cnt + 1\n",
    "#     print(np.mean(np.array(d_)))       \n",
    "    if pnt_cnt > max_inliers:\n",
    "        max_inliers = pnt_cnt\n",
    "        params = [a,b,c,d]\n",
    "        \n",
    "print(params)\n",
    "            \n",
    "        \n",
    " \n",
    "    "
   ]
  },
  {
   "cell_type": "code",
   "execution_count": 94,
   "id": "22486de2",
   "metadata": {},
   "outputs": [
    {
     "name": "stdout",
     "output_type": "stream",
     "text": [
      "Max X = 78.05924987792969\n",
      "Min X = -79.3807373046875\n",
      "Max Y = 75.33074951171875\n",
      "Min Y = -75.68268585205078\n"
     ]
    }
   ],
   "source": [
    "print(f\"Max X = {np.max(points[:,0],axis = 0)}\")\n",
    "print(f\"Min X = {np.min(points[:,0],axis = 0)}\")\n",
    "print(f\"Max Y = {np.max(points[:,1],axis = 0)}\")\n",
    "print(f\"Min Y = {np.min(points[:,1],axis = 0)}\")\n",
    "# print(f\"Max Z = {np.max(points[:,2],axis = 0)}\")\n",
    "\n",
    "X = np.linspace(-100,100,50)\n",
    "Y = np.linspace(-100,100,50)\n",
    "\n",
    "plane = []\n",
    "for x in X:\n",
    "    for y in Y:\n",
    "        z = (-d -b*y-a*x)/c\n",
    "        plane.append([x,y,z])\n",
    "\n",
    "plane = np.array(plane)\n",
    "util.visualize_pointclouds([plane.T])"
   ]
  },
  {
   "cell_type": "code",
   "execution_count": 95,
   "id": "169241b3",
   "metadata": {},
   "outputs": [],
   "source": [
    "# all_points = np.vstack((points,plane))\n",
    "# # print(all_points.shape)\n",
    "util.visualize_pointclouds([points.T,plane.T])"
   ]
  },
  {
   "cell_type": "markdown",
   "id": "54609c7f",
   "metadata": {},
   "source": [
    "Parameters used : \n",
    "Max iterations = 200\n",
    "threshold = 0.5 (found on basis of average distance of points)\n",
    "\n",
    "Plane equation\n",
    "[-0.28839505, 3.3890676, 9.477919, -0.0051288605]\n",
    "\n",
    "-0.28839 x + 3.389y +9.4779x -0.005 = 0\n",
    "\n",
    "\n"
   ]
  }
 ],
 "metadata": {
  "kernelspec": {
   "display_name": "Python 3",
   "language": "python",
   "name": "python3"
  },
  "language_info": {
   "codemirror_mode": {
    "name": "ipython",
    "version": 3
   },
   "file_extension": ".py",
   "mimetype": "text/x-python",
   "name": "python",
   "nbconvert_exporter": "python",
   "pygments_lexer": "ipython3",
   "version": "3.8.10"
  }
 },
 "nbformat": 4,
 "nbformat_minor": 5
}
