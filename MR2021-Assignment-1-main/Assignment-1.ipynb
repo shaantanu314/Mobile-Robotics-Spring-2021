{
 "cells": [
  {
   "cell_type": "markdown",
   "id": "fd7c69fe",
   "metadata": {},
   "source": [
    "# Assignment-1: Transformations and representations\n",
    "\n",
    "Team Name: GSMF\n",
    "\n",
    "Roll number: 2019102015 2019102031"
   ]
  },
  {
   "cell_type": "markdown",
   "id": "cd8f34e8",
   "metadata": {},
   "source": [
    "# Instructions\n",
    "\n",
    "- Code must be written in Python in Jupyter Notebooks. We highly recommend using anaconda distribution or at the minimum, virtual environments for this assignment. See `Set Up` for detailed step-by-step instructions about the installation setup.\n",
    "- Save all your results in ```results/<question_number>/<sub_topic_number>/```\n",
    "- The **References** section provides you with important resources to solve the assignment.\n",
    "- For this assignment, you will be using Open3D extensively. Refer to [Open3D Documentation](http://www.open3d.org/docs/release/): you can use the in-built methods and **unless explicitly mentioned**, don't need to code from scratch for this assignment. \n",
    "- Make sure your code is modular since you may need to reuse parts for future assignments.\n",
    "- Answer the descriptive questions in your own words with context & clarity. Do not copy answers from online resources or lecture notes.\n",
    "- The **deadline** for this assignment is on 11/09/2021 at 11:55pm. Please note that there will be no extensions.\n",
    "- Plagiarism is **strictly prohibited**.\n"
   ]
  },
  {
   "cell_type": "markdown",
   "id": "acd5eacd",
   "metadata": {},
   "source": [
    "# Submission Instructions\n",
    "\n",
    "1. Make sure your code runs without any errors after reinitializing the kernel and removing all saved variables.\n",
    "2. After completing your code and saving your results, zip the folder with name as ``Team_<team_name>_MR2021_Assignment_<assignment_number>.zip``"
   ]
  },
  {
   "cell_type": "markdown",
   "id": "993d827d",
   "metadata": {},
   "source": [
    "# Set Up\n",
    "\n",
    "We highly recommend using anaconda distribution or at the minimum, virtual environments for this assignment. All assignments will be python based, hence familiarising yourself with Python is essential.\n"
   ]
  },
  {
   "cell_type": "markdown",
   "id": "8125ddff",
   "metadata": {},
   "source": [
    "## Setting up Anaconda environment (Recommended)\n",
    "\n",
    "1. Install Anaconda or Miniconda from [here](https://docs.conda.io/projects/conda/en/latest/user-guide/install/linux.html) depending on your requirements.\n",
    "2. Now simply run `conda env create -f environment.yml` in the current folder to create an environment `mr_assignment1` (`environment.yml` can be found in `misc/`).\n",
    "3. Activate it using `conda activate mr_assignment1`.\n",
    "\n",
    "## Setting up Virtual environment using venv\n",
    "\n",
    "You can also set up a virtual environment using venv\n",
    "\n",
    "1. Run `sudo apt-get install python3-venv` from command line.\n",
    "2. `python3 -m venv ~/virtual_env/mr_assignment1`. (you can set the environment path to anything)\n",
    "3. `source ~/virtual_env/mr_assignment1/bin/activate`\n",
    "4. `pip3 install -r requirements.txt` from the current folder (`requirements.txt` can be found in `misc/`)."
   ]
  },
  {
   "cell_type": "code",
   "execution_count": 1,
   "id": "4e7e4d69",
   "metadata": {},
   "outputs": [
    {
     "name": "stdout",
     "output_type": "stream",
     "text": [
      "Jupyter environment detected. Enabling Open3D WebVisualizer.\n",
      "[Open3D INFO] WebRTC GUI backend enabled.\n",
      "[Open3D INFO] WebRTCWindowSystem: HTTP handshake server disabled.\n"
     ]
    }
   ],
   "source": [
    "import open3d as o3d\n",
    "import numpy as np"
   ]
  },
  {
   "cell_type": "markdown",
   "id": "ef1ac1ea",
   "metadata": {},
   "source": [
    "# 1. Getting started with Open3D\n",
    "\n",
    "Open3D is an open-source library that deals with 3D data, such as point clouds, mesh. We'll be using Open3D frequently as we work with point clouds. Let's start with something simple:\n",
    "\n",
    "<img src=\"misc/bunny.jpg\" alt=\"drawing\" width=\"200\"/>\n",
    "\n",
    "1. Read the Stanford Bunny file (in `data/`) given to you and visualise it using Open3D.\n",
    "2. Convert the mesh to a point cloud and change the colour of points.\n",
    "3. Set a predefined viewing angle (using Open3D) for visualization and display the axes while plotting.\n",
    "4. Scale, Transform, and Rotate the rabbit (visualise after each step).\n",
    "5. Save the point cloud as bunny.pcd."
   ]
  },
  {
   "cell_type": "code",
   "execution_count": 48,
   "id": "ca77a996",
   "metadata": {},
   "outputs": [
    {
     "data": {
      "text/plain": [
       "True"
      ]
     },
     "execution_count": 48,
     "metadata": {},
     "output_type": "execute_result"
    }
   ],
   "source": [
    "def custom_visualize(geometry_list,front,lookat,up):\n",
    "    vis = o3d.visualization.Visualizer()\n",
    "    vis.create_window()\n",
    "    for i in geometry_list:\n",
    "        vis.add_geometry(i)\n",
    "    o3d.visualization.ViewControl.set_front(vis.get_view_control(), front)\n",
    "    o3d.visualization.ViewControl.set_lookat(vis.get_view_control(), lookat)\n",
    "    o3d.visualization.ViewControl.set_up(vis.get_view_control(), up)\n",
    "    #o3d.visualization.ViewControl.set_zoom(vis.get_view_control(), 0.8)\n",
    "    vis.run()\n",
    "    vis.destroy_window()\n",
    "    \n",
    "    \n",
    "###read and visualize mesh###\n",
    "bunny_mesh = o3d.io.read_triangle_mesh(\"./data/bunny.ply\")\n",
    "bunny_mesh.compute_vertex_normals()\n",
    "o3d.visualization.draw_geometries([bunny_mesh])\n",
    "\n",
    "###convert mesh to point cloud and change colour###\n",
    "num_points = 15000\n",
    "bunny_pcd = bunny_mesh.sample_points_poisson_disk(num_points)\n",
    "color = np.zeros((num_points,3))\n",
    "color[:] = [0,0,0]\n",
    "bunny_pcd.colors = o3d.utility.Vector3dVector(color)\n",
    "\n",
    "###predefined viewing angle and display axes###\n",
    "cf = o3d.geometry.TriangleMesh.create_coordinate_frame(size=0.01,origin=bunny_pcd.get_center()-[0.1,0.1,0])\n",
    "front = [ -0.17787558071731241, 0.19847101653089066, 0.96383065596694628 ]\n",
    "lookat = [ -0.033225362169859066, 0.090336708898100304, -0.0014016149085554139 ]\n",
    "up = [ -0.021124395343669902, 0.97845413353141153, -0.20538078901557275 ]\n",
    "custom_visualize([cf,bunny_pcd],front=front,lookat=lookat,up=up)\n",
    "\n",
    "###Scale###\n",
    "bunny_pcd.scale(scale=1.5,center=bunny_pcd.get_center())\n",
    "custom_visualize([cf,bunny_pcd],front=front,lookat=lookat,up=up)\n",
    "\n",
    "###Transform###\n",
    "T = np.array([ [ 0.933 , 0.067 , 0.354 , 0 ] , [ 0.067 , 0.933 , -0.354 , 0 ] , [ -0.354 , 0.354 , 0.866 , 0 ] , [ 0 , 0 , 0 , 1 ] ],np.float64)\n",
    "bunny_pcd.transform(T)\n",
    "custom_visualize([cf,bunny_pcd],front=front,lookat=lookat,up=up)\n",
    "\n",
    "###Translate###\n",
    "bunny_pcd.translate(translation=[0.1,-0.1,0],relative=True)\n",
    "custom_visualize([cf,bunny_pcd],front=front,lookat=lookat,up=up)\n",
    "\n",
    "###Rotate###\n",
    "R = np.array([ [ np.cos(np.pi/4) , -np.sin(np.pi/4) , 0 ] , [ np.sin(np.pi/4) , np.cos(np.pi/4) , 0 ] , [ 0 , 0 , 1 ] ],np.float64)\n",
    "bunny_pcd.rotate(R,center=bunny_pcd.get_center())\n",
    "custom_visualize([cf,bunny_pcd],front=front,lookat=lookat,up=up)\n",
    "\n",
    "###save as bunny.pcd###\n",
    "o3d.io.write_point_cloud(\"./data/bunny.pcd\",bunny_pcd)"
   ]
  },
  {
   "cell_type": "markdown",
   "id": "ae430253",
   "metadata": {},
   "source": [
    "# 2. Transformations and representations"
   ]
  },
  {
   "cell_type": "markdown",
   "id": "673ec369",
   "metadata": {},
   "source": [
    "## a) Euler angles\n",
    "1. Write a function that returns a rotation matrix given the angles $\\alpha$, $\\beta$, and $\\gamma$ in radians (X-Y-Z)\n",
    "\n",
    "2. Solve for angles using ```fsolve from scipy``` for three initializations of your choice and compare.\n",
    "$$M(\\alpha , \\beta ,\\gamma)=\\left[\\begin{array}{rrr}0.26200263 & -0.19674724 & 0.944799 \\\\0.21984631 & 0.96542533 & 0.14007684 \\\\\n",
    "    -0.93969262 & 0.17101007 & 0.29619813\\end{array}\\right] \n",
    "$$\n",
    "\n",
    "$$N(\\alpha , \\beta ,\\gamma)=\\left[\\begin{array}{rrr}0 & -0.173648178 &  0.984807753 \\\\0 & 0.984807753 & 0.173648178 \\\\\n",
    "    -1 & 0 & 0\\end{array}\\right] \n",
    "$$\n",
    "\n",
    "3. What is a Gimbal lock? \n",
    "\n",
    "4. Show an example where a Gimbal lock occurs and visualize the Gimbal lock on the given bunny point cloud. You have to show the above by **animation** (cube rotating along each axis one by one).\n",
    "    - *Hint: Use Open3D's non-blocking visualization and discretize the rotation to simulate the animation. For example, if you want to rotate by $30^{\\circ}$ around a particular axis, do in increments of $5^{\\circ}$ 6 times to make it look like an animation.*\n"
   ]
  },
  {
   "cell_type": "code",
   "execution_count": 2,
   "id": "fb4719d0",
   "metadata": {},
   "outputs": [
    {
     "name": "stdout",
     "output_type": "stream",
     "text": [
      "Matrix 1: \n",
      "trial : 0 with initiallization (-0.6888907088953038, -2.6249987040193643, 0.6643231075971943)\n",
      "[[ 0.26200263 -0.19674724  0.944799  ]\n",
      " [ 0.2198463   0.96542534  0.14007684]\n",
      " [-0.93969262  0.17101007  0.29619813]]\n",
      "trial : 1 with initiallization (-0.6044546926829781, -0.6014019096416005, -0.0716913439142179)\n",
      "[[ 0.36753335 -0.26121792  0.89257181]\n",
      " [ 0.10646226  0.96525215  0.23865052]\n",
      " [-0.92389665  0.00731319  0.38257221]]\n",
      "trial : 2 with initiallization (-0.32122772634943947, 2.195270206939449, -1.1802304570530284)\n",
      "[[ 0.26200263 -0.19674724  0.944799  ]\n",
      " [ 0.21984631  0.96542534  0.14007684]\n",
      " [-0.93969262  0.17101008  0.29619813]]\n",
      "Matrix 2: \n",
      "trial : 0 with initiallization (1.6225315838506342, -1.176483569463739, 1.079689606484006)\n",
      "[[-1.24977367e-09 -1.73648176e-01  9.84807753e-01]\n",
      " [ 5.29878775e-10  9.84807753e-01  1.73648176e-01]\n",
      " [-1.00000000e+00  7.38849644e-10 -1.13877432e-09]]\n",
      "trial : 1 with initiallization (1.9564177928629554, -0.801649147388966, 1.6977023727153004)\n",
      "[[-4.78279908e-11 -1.73648178e-01  9.84807753e-01]\n",
      " [ 4.03409323e-11  9.84807753e-01  1.73648178e-01]\n",
      " [-1.00000000e+00  4.80333064e-11 -4.00962468e-11]]\n",
      "trial : 2 with initiallization (0.49954857942422787, 1.381604863896016, 2.414274905461409)\n",
      "[[-1.74533898e-13 -1.73648178e-01  9.84807753e-01]\n",
      " [-1.48429476e-12  9.84807753e-01  1.73648178e-01]\n",
      " [-1.00000000e+00 -1.43143750e-12 -4.29627417e-13]]\n"
     ]
    },
    {
     "name": "stderr",
     "output_type": "stream",
     "text": [
      "/home/god-particle/virtual_env/mr_assignment1/lib/python3.8/site-packages/scipy/optimize/minpack.py:175: RuntimeWarning: The iteration is not making good progress, as measured by the \n",
      "  improvement from the last ten iterations.\n",
      "  warnings.warn(msg, RuntimeWarning)\n",
      "/home/god-particle/virtual_env/mr_assignment1/lib/python3.8/site-packages/scipy/optimize/minpack.py:175: RuntimeWarning: The iteration is not making good progress, as measured by the \n",
      "  improvement from the last five Jacobian evaluations.\n",
      "  warnings.warn(msg, RuntimeWarning)\n"
     ]
    }
   ],
   "source": [
    "import math\n",
    "import scipy\n",
    "\n",
    "def get_rotation_matrix(a,b,c):\n",
    "    rotation_matrix = np.array([[np.cos(a)*np.cos(b),np.cos(a)*np.sin(b)*np.sin(c) - np.sin(a)*np.cos(c) , np.cos(a)*np.sin(b)*np.cos(c) + np.sin(a)*np.sin(c)],\n",
    "                                [np.sin(a)*np.cos(b),np.sin(a)*np.sin(b)*np.sin(c) + np.cos(a)*np.cos(c) , np.sin(a)*np.sin(b)*np.cos(c) - np.cos(a)*np.sin(c)],\n",
    "                                [-np.sin(b),np.cos(b)*np.sin(c), np.cos(b)*np.cos(c)]])\n",
    "    return rotation_matrix\n",
    "\n",
    "def euclidean_dist(p1,p2):\n",
    "    return math.sqrt((p1[0]-p2[0])**2 + (p1[1]-p2[1])**2 + (p1[2]-p2[2])**2 )\n",
    "\n",
    "def func(x):\n",
    "    global rmat_ideal\n",
    "    rmat = get_rotation_matrix(x[0],x[1],x[2])\n",
    "    points = np.array([[1,1,1],[1,0,1],[1,1,0]])\n",
    "    ideal = np.matmul(rmat_ideal,points.T)\n",
    "    expected = np.matmul(rmat,points.T)\n",
    "    \n",
    "    return [euclidean_dist(ideal[:,0],expected[:,0]),\n",
    "            euclidean_dist(ideal[:,1],expected[:,1]),\n",
    "            euclidean_dist(ideal[:,2],expected[:,2])]\n",
    "    \n",
    "    \n",
    "\n",
    "rmat_ideal = np.array([[0.26200263 , -0.19674724 , 0.944799],\n",
    "                       [0.21984631 , 0.96542533 , 0.14007684 ],\n",
    "                       [-0.93969262 , 0.17101007 , 0.29619813]])\n",
    "\n",
    "print(\"Matrix 1: \")\n",
    "for i in range(3):\n",
    "    init = np.random.randn(3)\n",
    "    root = scipy.optimize.fsolve(func,init)\n",
    "    print(f\"trial : {i} with initiallization {init[0],init[1],init[2]}\")\n",
    "    print(get_rotation_matrix(root[0],root[1],root[2]))\n",
    "\n",
    "\n",
    "rmat_ideal = np.array([[0 , -0.173648178 ,  0.984807753],\n",
    "                       [0 , 0.984807753 , 0.173648178  ],\n",
    "                       [-1,0,0]])\n",
    "\n",
    "print(\"Matrix 2: \")\n",
    "for i in range(3):\n",
    "    init = np.random.randn(3)\n",
    "    root = scipy.optimize.fsolve(func,init)\n",
    "    print(f\"trial : {i} with initiallization {init[0],init[1],init[2]}\")\n",
    "    print(get_rotation_matrix(root[0],root[1],root[2]))\n",
    "\n"
   ]
  },
  {
   "cell_type": "code",
   "execution_count": 3,
   "id": "5e17ac4c",
   "metadata": {},
   "outputs": [
    {
     "data": {
      "text/plain": [
       "array([[ 0.98480775, -0.17364818,  0.        ],\n",
       "       [ 0.17364818,  0.98480775,  0.        ],\n",
       "       [-0.        ,  0.        ,  1.        ]])"
      ]
     },
     "execution_count": 3,
     "metadata": {},
     "output_type": "execute_result"
    }
   ],
   "source": [
    "pi = math.pi\n",
    "get_rotation_matrix(pi/18,0,0)"
   ]
  },
  {
   "cell_type": "markdown",
   "id": "c23677af",
   "metadata": {},
   "source": [
    "# Solution\n",
    "### Gimbal lock \n",
    "Gimbal lock is a phenomenon which occurs when we lose a degree of freedom when we rotate a rigid body in 3D space in a particular manner.This occurs when axes of two initially orthogonal axes coincides and the rotation about any of the two axes are equivalent. This leads to firstly, loss of a degree of freedom and secondly, ambiguity in determining the euler angles. \n",
    "This occurs ,for  example , in (X-Y-Z) euler angles when we rotate about Y axis of local frame by 90$^\\circ$ . This leads to the rotation matrix becoming \n",
    "$$R(\\alpha, \\beta ,\\gamma)=\\left[\\begin{array}{rrr} 0 & 0 & 1\n",
    "\\\\ sin(\\alpha+\\gamma) & cos(\\alpha+\\gamma) & 0 \\\\\n",
    "   -cos(\\alpha+\\gamma) & sin(\\alpha+\\gamma) & 0\\end{array}\\right] \n",
    "$$\n",
    "\n",
    "From this matrix we can only get information about sum of $ \\alpha$ and $\\gamma $ and not about their absolute values. This creates ambiguity about exact values."
   ]
  },
  {
   "cell_type": "markdown",
   "id": "eda74156",
   "metadata": {},
   "source": [
    "## b) Quaternions\n",
    "\n",
    "1. What makes Quaternions popular in graphics? \n",
    "2. Convert a rotation matrix to quaternion and vice versa. Do not use inbuilt libraries for this question.\n",
    "3. Perform matrix multiplication of two $\\mathcal{R}_{3 \\times 3}$ rotation matrices and perform the same transformation in the quaternion space. Verify if the final transformation obtained in both the cases are the same.\n",
    "4. Try to interpolate any 3D model (cube / bunny / not sphere obviously!!) between two rotation matrices and visualize!\n",
    "\n",
    "The above questions require you to **code your own functions** and **only verify** using inbuilt functions."
   ]
  },
  {
   "cell_type": "markdown",
   "id": "7d6cf4db",
   "metadata": {},
   "source": [
    "# Solution:\n",
    "### Quaternions\n",
    "Quaternions are a 4D representation of rotations in 3D space. It is popular in graphics because:\n",
    "1. Since they are 4D representation of 3D rotations, they are sufficient enough to represent the rotations without any ambiguity. Quaternion Representation is not prone to Gimbal locks because of this feature.\n",
    "2. Although it is difficult to imagize 4D representations and their projections/effects in warping 3D spaces, It is very easy in computational sense. It is similar to complex number operations and is free from matrix operations.\n",
    "3. Since each quaternion requires only 4 real numbers to be representated, it requires less memory and is computationally efficient."
   ]
  },
  {
   "cell_type": "code",
   "execution_count": 47,
   "id": "3df9f258",
   "metadata": {},
   "outputs": [
    {
     "name": "stdout",
     "output_type": "stream",
     "text": [
      "[[-0.11736248 -0.98046789 -0.15782511]\n",
      " [-0.72091587 -0.02518759  0.69256472]\n",
      " [-0.6830127   0.19505974 -0.70387879]]\n",
      "[[-0.11736248 -0.98046789 -0.15782511]\n",
      " [-0.72091587 -0.02518759  0.69256472]\n",
      " [-0.6830127   0.19505974 -0.70387879]]\n"
     ]
    }
   ],
   "source": [
    "def quaternion_to_rotation_matrix(Q):\n",
    "    q0 = Q[0]\n",
    "    q1 = Q[1]\n",
    "    q2 = Q[2]\n",
    "    q3 = Q[3]\n",
    "\n",
    "    r00 = 1 - 2 * (q2 * q2 + q3 * q3) \n",
    "    r01 = 2 * (q1 * q2 - q0 * q3)\n",
    "    r02 = 2 * (q1 * q3 + q0 * q2)\n",
    "\n",
    "    r10 = 2 * (q1 * q2 + q0 * q3)\n",
    "    r11 = 1 - 2 * (q1 * q1 + q3 * q3) \n",
    "    r12 = 2 * (q2 * q3 - q0 * q1)\n",
    "\n",
    "    r20 = 2 * (q1 * q3 - q0 * q2)\n",
    "    r21 = 2 * (q2 * q3 + q0 * q1)\n",
    "    r22 = 1 - 2 * (q1 * q1 + q2 * q2) \n",
    "     \n",
    "    rotation_matrix = np.array([[r00, r01, r02],\n",
    "                           [r10, r11, r12],\n",
    "                           [r20, r21, r22]])\n",
    "                            \n",
    "    return rotation_matrix\n",
    "def rotation_matrix_to_quaternion(R):\n",
    "    r00 = R[0][0]\n",
    "    r01 = R[0][1]\n",
    "    r02 = R[0][2]\n",
    "    r10 = R[1][0]\n",
    "    r11 = R[1][1]\n",
    "    r12 = R[1][2]\n",
    "    r20 = R[2][0]\n",
    "    r21 = R[2][1]\n",
    "    r22 = R[2][2]\n",
    "    \n",
    "    r = np.math.sqrt(1.0+r00+r11+r22)*0.5\n",
    "    i = (r21-r12)/(4*r)\n",
    "    j = (r02-r20)/(4*r)\n",
    "    k = (r10-r01)/(4*r)\n",
    "    \n",
    "    return np.array([r,i,j,k])\n",
    "\n",
    "def quaternion_mult(Q1,Q2):\n",
    "#     (w_1+x_1*i+y_1*j+z_1*k)(w_2+x_2*i+y_2*j+z_2*k)\n",
    "    w1,x1,y1,z1 = Q1[0],Q1[1],Q1[2],Q1[3]\n",
    "    w2,x2,y2,z2 = Q2[0],Q2[1],Q2[2],Q2[3]\n",
    "    W_mult = w1*w2 -x1*x2 -y1*y2 -z1*z2\n",
    "    X_mult = w1*x2 + w2*x1 +y1*z2 -y2*z1\n",
    "    Y_mult = w1*y2 + w2*y1 + z1*x2 - x1*z2\n",
    "    Z_mult = w1*z2 + w2*z1 + x1*y2 - x2*y1\n",
    "    \n",
    "    return np.array([W_mult,X_mult,Y_mult,Z_mult])\n",
    "\n",
    "alpha1 = (math.pi)/3 \n",
    "beta1 = (math.pi)/4 \n",
    "gamma1 = (math.pi)/6\n",
    "alpha2 = math.pi/2\n",
    "beta2 = 3*math.pi/4 \n",
    "gamma2 = math.pi/3\n",
    "R1 = get_rotation_matrix(alpha1,beta1,gamma1)\n",
    "R2 = get_rotation_matrix(alpha2,beta2,gamma2)\n",
    "Q1 = rotation_matrix_to_quaternion(R1)\n",
    "Q2 = rotation_matrix_to_quaternion(R2)\n",
    "Rmult = np.matmul(R1,R2)\n",
    "Q_mult = quaternion_mult(Q1,Q2)\n",
    "print(Rmult)\n",
    "print(quaternion_to_rotation_matrix(Q_mult))\n"
   ]
  },
  {
   "cell_type": "markdown",
   "id": "f67da585",
   "metadata": {},
   "source": []
  },
  {
   "cell_type": "markdown",
   "id": "b4324cb9",
   "metadata": {},
   "source": [
    "## c) Exponential maps (Bonus)\n",
    "\n",
    "1. What is the idea behind exponential map representation of rotation matrices?\n",
    "2. Perform matrix exponentiation and obtain the rotation matrix to rotate a vector $P$ around $\\omega$ for $\\theta$ seconds.\n",
    "$$\n",
    "\\omega = \\begin{bmatrix}2 \\\\ 1 \\\\ 15 \\end{bmatrix}\n",
    "$$\n",
    "\n",
    "$$\n",
    "\\theta = 4.1364\n",
    "$$\n",
    "\n",
    "3. Compute the logarithmic map (SO(3) to so(3)) of the rotation matrix to obtain the rotation vector and the angle of rotation\n",
    "$$\n",
    "\\begin{bmatrix}\n",
    "0.1 &  -0.9487 & 0.3 \\\\\n",
    "0.9487 & 0.  & -0.3162 \\\\\n",
    "0.3   &  0.3162  & 0.9 \n",
    "\\end{bmatrix}\n",
    "$$\n",
    "You can use inbuilt libraries **only to verify** your results."
   ]
  },
  {
   "cell_type": "code",
   "execution_count": null,
   "id": "2647a282",
   "metadata": {},
   "outputs": [],
   "source": []
  },
  {
   "cell_type": "markdown",
   "id": "e3a85332",
   "metadata": {},
   "source": [
    "# 3. Data representations"
   ]
  },
  {
   "cell_type": "markdown",
   "id": "c9c0e99e",
   "metadata": {},
   "source": [
    "## a) Octomaps\n",
    "\n",
    "1. Why is an Octomap memory efficient?\n",
    "2. When do we update an Octomap and why?\n",
    "3. When would you likely use an octomap instead of a point cloud?\n",
    " "
   ]
  },
  {
   "cell_type": "markdown",
   "id": "c9f674b0",
   "metadata": {},
   "source": [
    "## Solution:\n",
    "#### Why octomaps are memory efficient\n",
    "Octomaps are generated by using an efficient datastructure caled as Octrees. An octree is an heirarchical datastructure used for spatial subdivision in computer vision. At each node we can either divide the space into eight smaller voxels if the current bigger voxel isnt  completely unoccupied or we can stop dividing if it is completely unoccupied . We recursively subdivide unless we reach minimum sized voxel ,ie, the resolution. \n",
    "\n",
    "Since we are not storing each and every cell as individual resolution sized voxels and rather we are only dividing a bigger cell if it is not completely unoccupied, this leads to saving a lot of memory which makes them memory efficient.\n",
    "\n",
    "#### When and why do we update an octomap\n",
    "\n",
    "We update an octomap when we recieve information from the sensors. Since the sensors are erroneous, we will always have a probability whether the laser was reflected or it travelled through the reflecting volume. When we move through the space, we need to scan the surroundings occasionally , which leads to updating the octomaps wherever neccesary.\n",
    "Each time we have a scan using sensors, we have current measurements and prior probability that the volume was occupied upto previous readings . Using this , we get conditional probabilty of occupancy of the voxel. If it is greater than a particular threshold, we say that the voxel is occupied. This leads to update in the octomaps.\n",
    "\n",
    "#### When do we use octomap instead of point cloud.\n",
    "\n",
    "We use octomaps for problems involving trajectory planing ,ex, path planing for drones. Planing paths using octomaps are computationally efficient and also easier problem . Using point clouds for such problems can be very difficult to solve and may also require lot of memory."
   ]
  },
  {
   "cell_type": "markdown",
   "id": "11c657e3",
   "metadata": {},
   "source": [
    "## b) Signed Distance Functions\n",
    "\n",
    "1. How do we determine object surfaces using SDF?\n",
    "2. How do we aggregate views from multiple cameras? (just a general overview is fine)\n",
    "3. Which preserves details better? Voxels or SDF? Why?\n",
    "4. What’s an advantage of SDF over a point cloud?\n"
   ]
  },
  {
   "cell_type": "code",
   "execution_count": null,
   "id": "ce13b35c",
   "metadata": {},
   "outputs": [],
   "source": []
  },
  {
   "cell_type": "markdown",
   "id": "2a4a4322",
   "metadata": {},
   "source": [
    "# References and Resources\n",
    "\n",
    "1. Gimbal locks and quaternions: https://youtu.be/YF5ZUlKxSgE\n",
    "2. Exponential map: \n",
    "    1. 3 Blue 1 Brown: https://youtu.be/O85OWBJ2ayo\n",
    "    2. Northwestern Robotics: https://youtu.be/v_KBHaG0mas\n",
    "3. Bunny ply is taken from: http://graphics.im.ntu.edu.tw/~robin/courses/cg03/model/"
   ]
  }
 ],
 "metadata": {
  "kernelspec": {
   "display_name": "Python 3",
   "language": "python",
   "name": "python3"
  },
  "language_info": {
   "codemirror_mode": {
    "name": "ipython",
    "version": 3
   },
   "file_extension": ".py",
   "mimetype": "text/x-python",
   "name": "python",
   "nbconvert_exporter": "python",
   "pygments_lexer": "ipython3",
   "version": "3.8.10"
  }
 },
 "nbformat": 4,
 "nbformat_minor": 5
}
