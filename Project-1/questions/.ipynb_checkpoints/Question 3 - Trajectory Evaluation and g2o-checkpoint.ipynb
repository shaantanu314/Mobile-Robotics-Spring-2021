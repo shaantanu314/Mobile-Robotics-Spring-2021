{
 "cells": [
  {
   "cell_type": "markdown",
   "id": "exposed-little",
   "metadata": {},
   "source": [
    "# Question 3: Trajectory Evaluation and g2o"
   ]
  },
  {
   "cell_type": "markdown",
   "id": "hearing-bachelor",
   "metadata": {},
   "source": [
    "_Refer to the example notebooks for installation instructions_"
   ]
  },
  {
   "cell_type": "markdown",
   "id": "radio-atlantic",
   "metadata": {},
   "source": [
    "# Evo"
   ]
  },
  {
   "cell_type": "markdown",
   "id": "recognized-booking",
   "metadata": {},
   "source": [
    "So you've implemented 2D SLAM, great! Now, what? We need a measure of how good the trajectory is. The error/loss used earlier doesn't tell us much about how the trajectory differs from the ground truth. Here, we try to do just this - compute error metrics. Rather than computing these from scratch, we will just Evo - https://github.com/MichaelGrupp/evo/."
   ]
  },
  {
   "cell_type": "markdown",
   "id": "amino-command",
   "metadata": {},
   "source": [
    "Look at the absolute pose error (APE) and relative pose error (RPE). What do they capture and how are they calculated (descriptive answer)? How do these metrics differ in methodology? Can we determine if the error is more along the x/y axis?\n",
    "\n",
    "Answer the above questions and report errors for the obtained trajectory."
   ]
  },
  {
   "cell_type": "markdown",
   "id": "9f68b9e2",
   "metadata": {},
   "source": [
    "### APE\n",
    "The global consistency can be evaluated by comparing the absolute distances between estimated and\n",
    "ground truth trajectory. The APE is the error calculated from the difference between the estimated trajectory and the ground truth\n",
    "\n",
    "\n",
    "\n",
    "### RPE\n",
    "\n",
    "The relative pose error measures the local accuracy\n",
    "of the trajectory over a fixed time interval ∆. Therefore, the relative pose error corresponds to the drift of\n",
    "the trajectory which is in particular useful for the evaluation of visual odometry systems.\n",
    "\n",
    "\n",
    "\n",
    "#### Can we determine if the error is more along the x/y axis?\n",
    "\n",
    "Yes , we can do that by changing the formulas to calculate the errors and calculate it just along one axis\n",
    "\n",
    "\n",
    "<img src=\"../results/evo_gt.png\"/>\n",
    "\n",
    "RPE w.r.t. translation part (m)\n",
    "for delta = 1 (frames) using consecutive pairs\n",
    "(not aligned)\n",
    "\n",
    "       max\t0.286941\n",
    "      mean\t0.116761\n",
    "    median\t0.114847\n",
    "       min\t0.005888\n",
    "      rmse\t0.132061\n",
    "       sse\t2.075388\n",
    "       std\t0.061701\n",
    "\n",
    "<img src=\"../results/RPE.png\"/>\n",
    "\n",
    "APE w.r.t. translation part (m)\n",
    "(not aligned)\n",
    "\n",
    "       max\t10.187576\n",
    "      mean\t5.288276\n",
    "    median\t5.640272\n",
    "       min\t0.000000\n",
    "      rmse\t6.155068\n",
    "       sse\t4546.182722\n",
    "       std\t3.149443\n",
    "\n",
    "<img src=\"../results/APE.png\"/>\n",
    "\n",
    "Log from evo_traj command\n",
    "\n",
    "Loaded 120 poses from: gt.kitti\n",
    "Loaded 120 poses from: opt.kitti\n",
    "\n",
    "--------------------------------------------------------------------------------\n",
    "name:\tgt\n",
    "infos:\n",
    "\tnr. of poses\t120\n",
    "\tpath length (m)\t52.976517997999295\n",
    "\tpos_end (m)\t[-2.8 -4.5  0. ]\n",
    "\tpos_start (m)\t[-8.  5.  0.]\n",
    "    \n",
    "--------------------------------------------------------------------------------\n",
    "name:\topt\n",
    "infos:\n",
    "\tnr. of poses\t120\n",
    "\tpath length (m)\t53.76129237601479\n",
    "\tpos_end (m)\t[-0.16639255  3.96935589  0.        ]\n",
    "\tpos_start (m)\t[-8.  5.  0.]\n",
    "\n",
    "\n",
    "<img src=\"../results/xyz_view.png\"/>"
   ]
  },
  {
   "cell_type": "markdown",
   "id": "surrounded-anderson",
   "metadata": {},
   "source": [
    "If you're interested, play around with this tool and add any other plots that you think might be relevant/interesting."
   ]
  },
  {
   "cell_type": "markdown",
   "id": "exceptional-charity",
   "metadata": {},
   "source": [
    "# g2o"
   ]
  },
  {
   "cell_type": "markdown",
   "id": "presidential-hayes",
   "metadata": {},
   "source": [
    "Install g2o as mentioned in `examples/g2o.ipynb` and optimise `edges.txt`, the file you used earlier. Also use `g2o_viewer` and optimize `intel` (a trajectory in the Intel research lab) and `sphere`. They should look something like:\n",
    "\n",
    "\n",
    "<table><tr>\n",
    "<td> <img src=\"../misc/intel.jpg\" alt=\"Drawing\" style=\"width: 250px;\"/> </td>\n",
    "<td> <img src=\"../misc/sphere.jpg\" alt=\"Drawing\" style=\"width: 250px;\"/> </td>\n",
    "</tr></table>"
   ]
  },
  {
   "cell_type": "markdown",
   "id": "amino-football",
   "metadata": {},
   "source": [
    "Write briefly about your observations and try out few options in the GUI. What do they do, how do they perform?"
   ]
  },
  {
   "cell_type": "markdown",
   "id": "ca29f544",
   "metadata": {},
   "source": [
    "We tried out various optimizers like gauss newton and LM and found out that the tool optimizes our initial problem which we were trying to optimize within 10 iterations.\n",
    "\n",
    "For the intel trajectory, it took about 1000 iterations to fully optimize the trajectory . \n",
    "The sphere graph takes a lot of time because it is 3 diminsional figure and thus the sizes of the optimizing matrices will be very large."
   ]
  }
 ],
 "metadata": {
  "kernelspec": {
   "display_name": "Python 3",
   "language": "python",
   "name": "python3"
  },
  "language_info": {
   "codemirror_mode": {
    "name": "ipython",
    "version": 3
   },
   "file_extension": ".py",
   "mimetype": "text/x-python",
   "name": "python",
   "nbconvert_exporter": "python",
   "pygments_lexer": "ipython3",
   "version": "3.8.10"
  }
 },
 "nbformat": 4,
 "nbformat_minor": 5
}
