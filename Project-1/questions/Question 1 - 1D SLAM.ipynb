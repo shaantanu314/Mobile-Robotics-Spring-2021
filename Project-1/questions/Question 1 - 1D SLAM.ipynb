{
 "cells": [
  {
   "cell_type": "markdown",
   "id": "posted-twist",
   "metadata": {},
   "source": [
    "# Question 1:  Pose Graph Optimization for 1D SLAM"
   ]
  },
  {
   "cell_type": "markdown",
   "id": "chemical-andorra",
   "metadata": {},
   "source": [
    "A solved example for 1D SLAM which optimizes for pose variables using weighted least squares method (Gauss Newton) has been explained in the class. You can view it at `examples/1D-SLAM.ipynb`. Your first task is to code this from scratch.\n",
    "\n",
    "For this section, you have to calculate Jacobian analytically yourself and use it. However, you can check how correct it is using `jax`'s `jacobian`. Its usage is explained in the supplementary notebook (`examples/`)."
   ]
  },
  {
   "cell_type": "markdown",
   "id": "fleet-digest",
   "metadata": {},
   "source": [
    "## How to get started?\n",
    "\n",
    "1. Go through the example and understand the optimization procedure.\n",
    "2. Generate the data as in the example.\n",
    "3. Write the derivatives of the function with respect to the constraints\n",
    "4. Create the final jacobian and write the update steps using Gauss Newton\n",
    "\n",
    "This tiny example will help make sense of the next question, as it's largely just an extension of this."
   ]
  },
  {
   "cell_type": "markdown",
   "id": "tough-brighton",
   "metadata": {},
   "source": [
    "Finally, plot the loop closure constraint, poses, and error at every iteration as well. Since this is a one dimensional example, you can just assume x = y."
   ]
  },
  {
   "cell_type": "code",
   "execution_count": 1,
   "id": "multiple-stomach",
   "metadata": {},
   "outputs": [],
   "source": [
    "import os\n",
    "import math\n",
    "import numpy as np\n",
    "import matplotlib.pyplot as plt"
   ]
  },
  {
   "cell_type": "code",
   "execution_count": 2,
   "id": "focal-identification",
   "metadata": {},
   "outputs": [],
   "source": [
    "# Code!\n",
    "# Generating the data\n",
    "u = np.array([1.1,1.0,1.1,-2.7,0.0])\n",
    "x_od = np.array([0.0,1.1,2.5,3.7,0.5])\n",
    "x_gt = np.array([0.0,1,2,3,0])\n",
    "covariance_mat = np.array([\n",
    "    [0.01,0,0,0,0,0],\n",
    "    [0,0.01,0,0,0,0],\n",
    "    [0,0,0.01,0,0,0],\n",
    "    [0,0,0,0.01,0,0],\n",
    "    [0,0,0,0,0.01,0],\n",
    "    [0,0,0,0,0,0.001],\n",
    "])\n",
    "\n",
    "info_mat = np.linalg.inv(covariance_mat)"
   ]
  },
  {
   "cell_type": "code",
   "execution_count": 3,
   "id": "442c1911",
   "metadata": {},
   "outputs": [
    {
     "name": "stdout",
     "output_type": "stream",
     "text": [
      "initial estimate : [ 0.  -0.4 -0.1  0.5 -0.5  0. ]\n"
     ]
    }
   ],
   "source": [
    "def get_fx(x):\n",
    "    global u\n",
    "    return np.array([x[0]+u[0]-x[1],\n",
    "                    x[1]+u[1]-x[2],\n",
    "                    x[2]+u[2]-x[3],\n",
    "                    x[3]+u[3]-x[4],\n",
    "                    x[0]+u[4]-x[4],\n",
    "                    x[0]-0])\n",
    "\n",
    "J = np.array([[1,-1,0,0,0],\n",
    "            [0,1,-1,0,0],\n",
    "            [0,0,1,-1,0],\n",
    "            [0,0,0,1,-1],\n",
    "            [1,0,0,0,-1],\n",
    "            [1,0,0,0,0]])\n",
    "\n",
    "print(f\"initial estimate : {get_fx(x_od)}\")    \n",
    "\n",
    "H = np.dot(np.dot(J.T,info_mat),J)\n",
    "H_inv = np.linalg.inv(H)\n",
    "JtIt = np.dot(J.T,info_mat.T)\n"
   ]
  },
  {
   "cell_type": "code",
   "execution_count": 4,
   "id": "769353da",
   "metadata": {},
   "outputs": [
    {
     "name": "stdout",
     "output_type": "stream",
     "text": [
      "MSE at 0th iteration is :0.20000000000000004\n",
      "MSE at 1th iteration is :0.005999999999999993\n",
      "MSE at 2th iteration is :0.005999999999999981\n",
      "MSE at 3th iteration is :0.005999999999999997\n",
      "MSE at 4th iteration is :0.005999999999999994\n",
      "MSE at 5th iteration is :0.005999999999999994\n",
      "MSE at 6th iteration is :0.005999999999999994\n",
      "MSE at 7th iteration is :0.005999999999999994\n",
      "MSE at 8th iteration is :0.005999999999999994\n",
      "MSE at 9th iteration is :0.005999999999999994\n"
     ]
    }
   ],
   "source": [
    "import copy\n",
    "epoch = 10\n",
    "x = copy.deepcopy(x_od) \n",
    "for i in range(epoch):\n",
    "    print(f\"MSE at {i}th iteration is :{np.mean((x-x_gt)**2)}\")\n",
    "    b = np.dot(JtIt,get_fx(x))\n",
    "    dx = np.dot(H_inv,-b)\n",
    "    x = x + dx\n",
    "    "
   ]
  },
  {
   "cell_type": "code",
   "execution_count": 10,
   "id": "d4225126",
   "metadata": {},
   "outputs": [
    {
     "name": "stdout",
     "output_type": "stream",
     "text": [
      "Ground Truth : [0. 1. 2. 3. 0.]\n",
      "Initial Estimate : [0.  1.1 2.5 3.7 0.5]\n",
      "Final Estimate : [2.15704154e-32 1.00000000e+00 1.90000000e+00 2.90000000e+00\n",
      " 1.00000000e-01]\n"
     ]
    }
   ],
   "source": [
    "print(f\"Ground Truth : {x_gt}\")\n",
    "print(f\"Initial Estimate : {x_od}\")\n",
    "print(f\"Final Estimate : {x}\")"
   ]
  },
  {
   "cell_type": "code",
   "execution_count": 18,
   "id": "5a6c6158",
   "metadata": {},
   "outputs": [
    {
     "data": {
      "text/plain": [
       "<matplotlib.legend.Legend at 0x7f72e4cfe0a0>"
      ]
     },
     "execution_count": 18,
     "metadata": {},
     "output_type": "execute_result"
    },
    {
     "data": {
      "image/png": "[encoded data removed]",
      "text/plain": [
       "<Figure size 432x288 with 1 Axes>"
      ]
     },
     "metadata": {
      "needs_background": "light"
     },
     "output_type": "display_data"
    }
   ],
   "source": [
    "plt.plot(x_gt,x_gt,'x',color=\"r\")\n",
    "plt.plot(x,x,'o',color=\"b\")\n",
    "plt.title('GT vs estimated poses')\n",
    "plt.legend(['Ground Truth','Estimated pose'])"
   ]
  },
  {
   "cell_type": "code",
   "execution_count": null,
   "id": "e8da2b23",
   "metadata": {},
   "outputs": [],
   "source": []
  }
 ],
 "metadata": {
  "kernelspec": {
   "display_name": "Python 3",
   "language": "python",
   "name": "python3"
  },
  "language_info": {
   "codemirror_mode": {
    "name": "ipython",
    "version": 3
   },
   "file_extension": ".py",
   "mimetype": "text/x-python",
   "name": "python",
   "nbconvert_exporter": "python",
   "pygments_lexer": "ipython3",
   "version": "3.8.10"
  }
 },
 "nbformat": 4,
 "nbformat_minor": 5
}
