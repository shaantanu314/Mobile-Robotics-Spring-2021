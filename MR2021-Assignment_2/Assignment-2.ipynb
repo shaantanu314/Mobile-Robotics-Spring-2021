{
 "cells": [
  {
   "cell_type": "markdown",
   "id": "e2e806d4",
   "metadata": {},
   "source": [
    "# Assignment - 2: Data Representation and Point Cloud Operations\n",
    "\n",
    "Team Name: GSMF\n",
    "\n",
    "Roll number: 2019102015 , 2019102031"
   ]
  },
  {
   "cell_type": "markdown",
   "id": "1e42e4d4",
   "metadata": {},
   "source": [
    "# Instructions\n",
    "\n",
    "- Code must be written in Python in Jupyter Notebooks. We highly recommend using anaconda distribution or at the minimum, virtual environments for this assignment.\n",
    "- Save all your results in ```results/<question_number>/<sub_topic_number>/```\n",
    "- The **References** section provides you with important resources to solve the assignment.\n",
    "- Make sure your code is modular since you may need to reuse parts for future assignments.\n",
    "- Answer the descriptive questions in your own words with context & clarity. Do not copy answers from online resources or lecture notes.\n",
    "- The **deadline** for this assignment is on 26/09/2021 at 11:55pm. Please note that there will be no extensions.\n",
    "- Plagiarism is **strictly prohibited**."
   ]
  },
  {
   "cell_type": "markdown",
   "id": "bb6ccd58",
   "metadata": {},
   "source": [
    "# Submission Instructions\n",
    "\n",
    "1. Make sure your code runs without any errors after reinitializing the kernel and removing all saved variables.\n",
    "2. After completing your code and saving your results, zip the folder with name as ``Team_<team_name>_MR2021_Assignment_<assignment_number>.zip``"
   ]
  },
  {
   "cell_type": "code",
   "execution_count": 1,
   "id": "b40d245c",
   "metadata": {},
   "outputs": [
    {
     "name": "stdout",
     "output_type": "stream",
     "text": [
      "Jupyter environment detected. Enabling Open3D WebVisualizer.\n",
      "[Open3D INFO] WebRTC GUI backend enabled.\n",
      "[Open3D INFO] WebRTCWindowSystem: HTTP handshake server disabled.\n"
     ]
    }
   ],
   "source": [
    "import numpy as np\n",
    "import matplotlib.pyplot as plt\n",
    "import cv2\n",
    "import open3d as o3d\n",
    "import copy\n",
    "import os"
   ]
  },
  {
   "cell_type": "markdown",
   "id": "1f85262a",
   "metadata": {},
   "source": [
    "# Introduction to types of Transformations and Homogeneous coordinates\n",
    "\n",
    "In robotics applications, it is inevitable to keep track of the frames of multiple objects/worlds. These frames can be transformations from one coordinate frame to the other. **Homogeneous coordinates** help in keeping track of various coordinate frames and allow performing composition of various transforms. We will first try to understand between types of transformations and their invariant properties.\n",
    "1. What is the difference between Affine, Similarity, and Euclidean transform? What are the invariant properities of each type of transform?\n",
    "2. Watch this [video](https://www.youtube.com/watch?v=PvEl63t-opM) to briefly understand homogeneous coordinates. What are points at infinity? What type of transformation can you apply to transform a point from infinity to a point that is not at infinity? \n",
    "3. Using homogeneous coordinates we can represent different types of transformation as point transforms vs. frame transforms. Concatenation of transforms (whether you post multiply transformation matrices or pre-multiply transformation matrices) depends on the problem and how you are viewing it. Try to understand the difference between frame vs. point transformations from this [video](https://youtu.be/Za7Sdegf8m8?t=1834). Let's assume that our camera and world frames are coinciding with each other. We need to estimate the camera to world **frame** transformation matrix after applying the transformations defined below in terms of $T_i$.We apply **frame** transform to move the camera in the world in the following order:\n",
    "    1. $T_1$ from the camera coordinate frame.\n",
    "    2. $T_2$ from the world coordinate frame.\n",
    "    3. $T_3$ from the world coordinate frame.\n",
    "    4. $T_4$ from the camera coordinate frame.\n",
    "    5. $T_5$ from the camera coordinate frame.\n"
   ]
  },
  {
   "cell_type": "markdown",
   "id": "f3af453f",
   "metadata": {},
   "source": [
    "### Solution 1\n",
    "#### Affine Transformation:\n",
    "Affine transformation is a type of transformation in which the laws such as parallelism and collinearity of points is preserved. After the transformation, all points lying on a line still lie on a line ad the ratio of distances between points are also preserved. ( Eg: The midpoint of a given line remains the same even after transformation.)\n",
    "\n",
    "While an affine transformation preserves proportions on lines, it does not necessarily preserve angles or lengths.\n",
    "\n",
    "#### Similarity Transformation:\n",
    "Similarity transformations are transformation in which the shape of the object under transformation ,ie, the geometry , angles etc are preserved. This involves rotation , translation , reflection and scaling operations.\n",
    "\n",
    "#### Euclidean Transformation:\n",
    "Euclidean transformation is most rigid transformation of the above two. It involves only translation , rotation and reflection. In this transformation , since scaling is not involved, the size of the object is preserved.\n",
    "\n",
    "\n",
    "### Solution 2\n",
    "\n",
    "Homogeneous coordinates are projective coordinates of euclidean space represented in 4 diensional vectors. The last row has a scalar by which if we divide all the other rows, we get back the euclidean coordinates.If we fix this last row scalar to 0 , we can represnt infinitely far points in homogeneous coordinates.\n",
    "\n",
    "Consider the following transformations possible in homogeneous coordinates.\n",
    "<img src=\"./img/homogeneoustransforms.png\" width=\"50%\"  >\n",
    "\n",
    "To bring a point at infinity, the scalr in the last row must be non-zero in the last row.\n",
    "Consider the transformation matrix:\n",
    "\\begin{pmatrix}\n",
    "t11 & t12 & t13 &t14 \\\\\n",
    "t21 & t22 & t23 & t24 \\\\\n",
    "t31 & t32 & t33 & t34 \\\\\n",
    "t41 & t42 & t43 & t44 \\\\\n",
    "\\end{pmatrix}\n",
    "And consider a point at infinity whose homogeneous coordinated is given as:\n",
    "\\begin{pmatrix}\n",
    "x \\\\\n",
    "y \\\\\n",
    "z \\\\\n",
    "0 \\\\\n",
    "\\end{pmatrix}\n",
    "\n",
    "After the transformation, the scalar in the last row of homogeneous coordinates is given as:\n",
    "          \n",
    "                  t41*x + t42*y +t43*z + t44*(0)\n",
    "In all the transformations except projective transsformation , \n",
    "\n",
    "                    (t41 ,t42 , t43 ) = (0,0,0)\n",
    "While in projective tranformation , it is \n",
    "\n",
    "                    (t41 ,t42 , t43 ) = pT\n",
    "So, we can bring point at infinity to a point that is not at infinity, we can use projective transformation.\n",
    "\n",
    "\n",
    "\n",
    "### Solution 3\n",
    "\n",
    "We premultiply the transformation matrix if we want to perform the transformation in the world coordinate frame while we post multiply if we want to perform the rotation in the camera's frame.\n",
    "\n",
    "So the final transformation matrix is given as:\n",
    "                                    \n",
    "                                 T_res =  T3 x T2 x Ti x T1 x T4 x T5\n",
    "                                   \n",
    "                                   "
   ]
  },
  {
   "cell_type": "markdown",
   "id": "e5f08d84",
   "metadata": {},
   "source": [
    "# Visualise the Data\n",
    "\n",
    "Point clouds are a collection of points that represent a 3D shape or feature. Each point has its own set of X, Y and Z coordinates and in some cases additional attributes. A popular way to obtain this is by photogrammetry, though here we will use LiDAR data.\n",
    "\n",
    "LiDAR is a remote sensing process which collects measurements used to create 3D models and maps of objects and environments. Using ultraviolet, visible, or near-infrared light, LiDAR gauges spatial relationships and shapes by measuring the time it takes for signals to bounce off objects and return to the scanner.\n",
    "\n",
    "1. Download the data from [here](https://iiitaphyd-my.sharepoint.com/:f:/g/personal/venkata_surya_students_iiit_ac_in/EnYAMaTVIhJItzKYqtahE30BRKB6p6UfHN3TyJzvo6Mw0g?e=PegWds). It contains the LIDAR sensor output and odometry information per frame.\n",
    "\n",
    "    The .bin files contain the 3D point cloud captured by the LIDAR in this format - x, y, z, and reflectance. \n",
    "\n",
    "    The odometry information is given in the `odometry.txt` file, which is a 12 element vector. Reshape each of the first 77 rows to a 3x4 matrix to obtain the pose.\n",
    "    \n",
    "\n",
    "2. Obtain the point cloud from this and visualise for 1-2 frames."
   ]
  },
  {
   "cell_type": "code",
   "execution_count": 2,
   "id": "directed-termination",
   "metadata": {},
   "outputs": [],
   "source": [
    "### function to convert data read from .bin to pcd ###\n",
    "def convert_bin_to_pcd(bin_file):\n",
    "    \n",
    "    points = bin_file.reshape((-1,4))[:,0:3]\n",
    "    \n",
    "    pcd = o3d.geometry.PointCloud()\n",
    "    pcd.points = o3d.utility.Vector3dVector(points)\n",
    "    \n",
    "    return pcd\n"
   ]
  },
  {
   "cell_type": "code",
   "execution_count": 3,
   "id": "781b32d5",
   "metadata": {},
   "outputs": [],
   "source": [
    "### function to visualize\n",
    "def custom_visualize(geometry_list,front=None,lookat=None,up=None):\n",
    "    \n",
    "    vis = o3d.visualization.Visualizer()\n",
    "    vis.create_window()\n",
    "    \n",
    "    for i in geometry_list:\n",
    "        vis.add_geometry(i)\n",
    "    \n",
    "    if(front):\n",
    "        o3d.visualization.ViewControl.set_front(vis.get_view_control(), front)\n",
    "    if(lookat):\n",
    "        o3d.visualization.ViewControl.set_lookat(vis.get_view_control(), lookat)\n",
    "    if(up):\n",
    "        o3d.visualization.ViewControl.set_up(vis.get_view_control(), up)\n",
    "    \n",
    "    vis.run()\n",
    "    vis.destroy_window()"
   ]
  },
  {
   "cell_type": "code",
   "execution_count": 4,
   "id": "9bb0f384",
   "metadata": {},
   "outputs": [],
   "source": [
    "### 1. reshape obtain pose ###\n",
    "\n",
    "temp_poses = np.loadtxt(\"./data/odometry.txt\",dtype=np.float32)[:77]\n",
    "temp_poses = temp_poses.reshape(77,3,4)\n",
    "row_4 = np.array([0,0,0,1])\n",
    "poses = [] \n",
    "for i in range(77):\n",
    "    poses.append(np.vstack((temp_poses[i],row_4)))\n",
    "\n",
    "### 2. obtain point cloud and visualize ### \n",
    "pcd_list = []\n",
    "for i in range(77):\n",
    "    temp = np.fromfile(\"./data/LiDAR/0000\"+str(i+10)+\".bin\", dtype=np.float32)\n",
    "    pcd_list.append(convert_bin_to_pcd(temp).uniform_down_sample(10))\n",
    "    \n",
    "i = np.random.randint(low=0,high=76,size=(2,))\n",
    "\n",
    "custom_visualize([pcd_list[i[0]]])\n",
    "custom_visualize([pcd_list[i[1]]])"
   ]
  },
  {
   "cell_type": "markdown",
   "id": "hairy-riverside",
   "metadata": {},
   "source": [
    "# Transform \n",
    "\n",
    "The point cloud obtained is with respect to the LiDAR frame. The poses however, are in the camera frame. If we want to combine the point clouds from various frames, we need to bring them to the camera frame. \n",
    "\n",
    "1. Refer to the image below and apply the required transformation to the point cloud. \n",
    "\n",
    "2. Then, register all point clouds into a common reference frame and visualise it (Open3D). It is helpful to use homogeneous coordinates to keep track of the different frames.\n",
    "\n",
    "3. Write a function to transform the registered point cloud from the world to the $i^{th}$ camera frame, wherein $i$ is the input to the function.\n",
    "\n",
    "4. \\[Bonus\\] Move around in the registered point cloud using arrow keys like you would do in a game. For this you will have to regularly transform the entire registered world to your current camera frame and visualize repeatedly. You may choose to avoid visualizing points that are behind the camera in this case as they are not visible from the scene. You may also visualize points at a max depth to make the process easier.\n",
    "\n",
    "![](./img/transform.png)"
   ]
  },
  {
   "cell_type": "code",
   "execution_count": 5,
   "id": "3812a6da",
   "metadata": {},
   "outputs": [],
   "source": [
    "### 1. transform from lidar fram to camera frame ###\n",
    "T_lidar_to_cam = np.array( [ [ 0 , -1 ,  0 , 0 ] ,\n",
    "                             [ 0 ,  0 , -1 , 0 ] ,\n",
    "                             [ 1 ,  0 ,  0 , 0 ] ,\n",
    "                             [ 0 ,  0 ,  0 , 1 ] ] )\n",
    "\n",
    "pcd_list_copy = copy.deepcopy(pcd_list)\n",
    "\n",
    "for pcd in pcd_list_copy:\n",
    "    pcd.transform(T_lidar_to_cam)\n",
    "\n",
    "### 2. register all point clouds into a common reference frame and visualise ###\n",
    "for i in range(77):\n",
    "    pcd_list_copy[i].transform(poses[i])\n",
    "    \n",
    "custom_visualize(pcd_list_copy)"
   ]
  },
  {
   "cell_type": "code",
   "execution_count": 7,
   "id": "efdbc67e",
   "metadata": {},
   "outputs": [],
   "source": [
    "### 3. function to transform the registered point cloud from the world to the  𝑖𝑡ℎ  camera frame ###\n",
    "def world_to_cam(i):\n",
    "    \n",
    "    Tmat = np.empty([4,4])\n",
    "    \n",
    "    Tmat[3,:] = [0,0,0,1]\n",
    "    Tmat[:3,:3] = poses[i][:3,:3].T\n",
    "    Tmat[:3,3] = -np.matmul(Tmat[:3,:3],poses[i][:3,3])\n",
    "    \n",
    "    return Tmat"
   ]
  },
  {
   "cell_type": "markdown",
   "id": "personal-divorce",
   "metadata": {},
   "source": [
    "# Occupancy Map"
   ]
  },
  {
   "cell_type": "markdown",
   "id": "overhead-discussion",
   "metadata": {},
   "source": [
    "Occupancy grid maps are discrete fine grain grid maps. These maps can be either 2-D or 3-D. Each cell in the occupancy grid map contains information on the physical objects present in the corresponding space. Since these maps shed light on what parts of the environment are occupied, and what is not, they are really useful for path planning and navigation.\n",
    "\n",
    "Occupancy grid maps are probabilistic in nature due to noisy measurements. Each cell can have three states: Occupied, unoccupied, and unknown. For the purpose of this assignment, you can ignore the unknown and work in a binary setting where 1 is occupied and 0 is unoccupied."
   ]
  },
  {
   "cell_type": "markdown",
   "id": "rental-display",
   "metadata": {},
   "source": [
    "1. The task here is to create an occupancy map for each LiDAR scan. You do not need to apply bayesian update rules here, just keep it simple. \n",
    "\n",
    "2. Now, using the *registered* point cloud, generate occupancy maps for each frame. What difference do you expect to see between the two methods?\n",
    "\n",
    "    You can mark a cell as occupied based on a threshold of how many different z values are there for a particular (x,y) cell."
   ]
  },
  {
   "cell_type": "code",
   "execution_count": 34,
   "id": "6c7cb7ef",
   "metadata": {},
   "outputs": [],
   "source": [
    "def Lidar_to_Camera(points):\n",
    "        Lidar_to_Camera = np.array([ [0,0,1] , [-1,0,0] , [0,-1,0] ]).T\n",
    "        return np.matmul(Lidar_to_Camera,points.T)"
   ]
  },
  {
   "cell_type": "code",
   "execution_count": 35,
   "id": "9a0c61f7",
   "metadata": {},
   "outputs": [],
   "source": [
    "poses = np.loadtxt(\"./data/odometry.txt\",dtype=np.float32)[:77]\n",
    "poses = poses.reshape(77,3,4)"
   ]
  },
  {
   "cell_type": "code",
   "execution_count": 36,
   "id": "03398bf5",
   "metadata": {},
   "outputs": [],
   "source": [
    "def get_next_frame(i):\n",
    "    list_pcd = []\n",
    "    bin_pcd = np.fromfile(\"./data/LiDAR/0000\"+str(i+10)+\".bin\", dtype=np.float32)\n",
    "    points = bin_pcd.reshape((-1, 4))[:, 0:3]\n",
    "    points = points[0:points.size:10]\n",
    "    points = Lidar_to_Camera(points).T\n",
    "\n",
    "    pose =  poses[i]\n",
    "    row_4 = np.array([0,0,0,1])\n",
    "    Tmat = np.vstack((pose,row_4))\n",
    "    points = np.vstack((points.T,np.ones((1,points.shape[0]),dtype=float)))\n",
    "    transformed_points = np.matmul(Tmat,points).T\n",
    "    car_coordinate = np.matmul(Tmat,row_4).T\n",
    "    return transformed_points[:,:3],car_coordinate"
   ]
  },
  {
   "cell_type": "code",
   "execution_count": 48,
   "id": "second-school",
   "metadata": {
    "scrolled": true
   },
   "outputs": [],
   "source": [
    "import matplotlib.pyplot as plt\n",
    "from matplotlib import animation\n",
    "from PIL import Image as im\n",
    "\n",
    "grid_width  = 500\n",
    "grid_height = 700\n",
    "\n",
    "car_trajectory = np.empty((0,3))\n",
    "\n",
    "occupancy_grid = np.zeros((grid_width,grid_height))\n",
    "accumulation_grid = np.zeros((grid_width,grid_height))\n",
    "free_grid = np.zeros((grid_width,grid_height))  \n",
    "occupied_image = np.zeros((occupancy_grid.shape[0],occupancy_grid.shape[1],3))\n",
    "free_image = np.zeros((occupancy_grid.shape[0],occupancy_grid.shape[1],3))\n",
    "for k in range(77):\n",
    "    points,car_coordinate = get_next_frame(k)\n",
    "    car_trajectory = np.vstack((car_trajectory,car_coordinate[:-1]))\n",
    "    for point in points:\n",
    "        if(point[1] > 0.5):\n",
    "            free_grid[int(2*point[2]+grid_width/2)][int(2*point[0]+grid_height/2)] +=1 \n",
    "            continue\n",
    "        accumulation_grid[int(2*point[2]+grid_width/2)][int(2*point[0]+grid_height/2)] +=1 \n",
    "\n",
    "    threshold = 1\n",
    "\n",
    "    for i in range(grid_width):\n",
    "        for j in range(grid_height):\n",
    "            if(accumulation_grid[i][j]>=threshold):\n",
    "                occupied_image[i][j] = np.array([255,255,255])\n",
    "                free_image[i][j] = np.array([0,0,0])\n",
    "            else:\n",
    "                occupied_image[i][j] = np.array([0,0,0])\n",
    "                free_image[i][j] = np.array([255,255,255])\n",
    "                \n",
    "    for point in car_trajectory:\n",
    "        occupied_image[int(2*point[2]+grid_width/2)][int(2*point[0]+grid_height/2)] =  np.array([255,0,0])\n",
    "        \n",
    "# This directory has been moved so the below comment has been commented\n",
    "\n",
    "#     data = im.fromarray(occupied_image.astype(np.uint8))\n",
    "#     data = data.convert(\"RGB\")\n",
    "#     data.save('Anim/obstacle'+str(k)+'.png')\n",
    "\n",
    "\n",
    "for point in car_trajectory:\n",
    "        free_image[int(2*point[2]+grid_width/2)][int(2*point[0]+grid_height/2)] =  np.array([255,0,0])\n",
    "    \n",
    "\n",
    "# print(occupied_image.shape)\n",
    "data = im.fromarray(occupied_image.astype(np.uint8))\n",
    "data = data.convert(\"RGB\")\n",
    "data.save('obstacle.png')\n",
    "            \n",
    "data = im.fromarray(free_image.astype(np.uint8))\n",
    "data = data.convert(\"RGB\")\n",
    "data.save('free_space.png')\n"
   ]
  },
  {
   "cell_type": "markdown",
   "id": "2628051c",
   "metadata": {},
   "source": [
    "### Estimating Trajectory of the Vehicle"
   ]
  },
  {
   "cell_type": "code",
   "execution_count": null,
   "id": "e4ede852",
   "metadata": {},
   "outputs": [],
   "source": [
    "from mpl_toolkits import mplot3d\n",
    "plist = np.empty((0,3))\n",
    "for i in range(77):    \n",
    "    poses = np.loadtxt(\"./data/odometry.txt\",dtype=np.float32)[:77]\n",
    "    poses = poses.reshape(77,3,4)\n",
    "    P = poses[i][:,3].T\n",
    "    plist  = np.vstack((plist,P))\n",
    "\n",
    "fig = plt.figure()\n",
    " \n",
    "plt.scatter(plist[:, 2],plist[:,0])\n",
    "plt.show()"
   ]
  }
 ],
 "metadata": {
  "kernelspec": {
   "display_name": "Python 3",
   "language": "python",
   "name": "python3"
  },
  "language_info": {
   "codemirror_mode": {
    "name": "ipython",
    "version": 3
   },
   "file_extension": ".py",
   "mimetype": "text/x-python",
   "name": "python",
   "nbconvert_exporter": "python",
   "pygments_lexer": "ipython3",
   "version": "3.8.10"
  }
 },
 "nbformat": 4,
 "nbformat_minor": 5
}
