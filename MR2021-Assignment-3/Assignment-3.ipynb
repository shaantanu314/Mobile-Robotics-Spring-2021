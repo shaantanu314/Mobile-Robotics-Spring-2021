{
 "cells": [
  {
   "cell_type": "markdown",
   "id": "c9897109",
   "metadata": {},
   "source": [
    "# Assignment 3: ICP + Non-linear least squares optimization\n",
    "\n",
    "TEAM-NAME: GSMF \n",
    "\n",
    "YOUR-ID: 2019102031| 2019102015\n",
    "\n",
    "YOUR-NAME: Shaantanu kulkarni | Vijay Kalluri\n",
    "\n",
    "## Instructions\n",
    "\n",
    "* You are not allowed to use any external libraries (other than ones being imported below).\n",
    "* The deadline for this assignment is **15-09-21** at 11:55pm.\n",
    "* Plagiarism is **strictly prohibited**"
   ]
  },
  {
   "cell_type": "code",
   "execution_count": 1,
   "id": "1fea302e",
   "metadata": {},
   "outputs": [
    {
     "name": "stdout",
     "output_type": "stream",
     "text": [
      "Jupyter environment detected. Enabling Open3D WebVisualizer.\n",
      "[Open3D INFO] WebRTC GUI backend enabled.\n",
      "[Open3D INFO] WebRTCWindowSystem: HTTP handshake server disabled.\n"
     ]
    }
   ],
   "source": [
    "import math\n",
    "import numpy as np\n",
    "import matplotlib.pyplot as plt\n",
    "import open3d as o3d\n",
    "from sklearn.neighbors import KDTree"
   ]
  },
  {
   "cell_type": "markdown",
   "id": "995d0d70",
   "metadata": {},
   "source": [
    "# Non Linear Least Squares Optimization"
   ]
  },
  {
   "cell_type": "markdown",
   "id": "58e9d8b5",
   "metadata": {},
   "source": [
    "## 1.1 Gradient Descent\n",
    "Implement the gradient descent algorithm using numpy and what you have learned from class to solve for the parameters of a gaussian distribution.\n",
    "To understand the task in more detail and look at a worked through example, checkout the subsequent section. You have to implement the same using just numpy functions. You can refer to [Shubodh's notes](https://www.notion.so/saishubodh/From-linear-algebra-to-non-linear-weighted-least-squares-optimization-13cf17d318be4d45bb8577c4d3ea4a02) on the same to get a better grasp of the concept before implementing it.\n",
    "* Experiment with the number of iterations.\n",
    "* Experiment with the learning rate.\n",
    "* Experiment with the tolerance.\n",
    "\n",
    "Display your results using matplotlib by plotting graphs for \n",
    "* The cost function value vs the number of iterations\n",
    "* The Ground Truth data values and the predicted data values.\n",
    "\n",
    "Your plots are expected to contain information similar to the plot below:\n",
    "\n",
    "<!-- <figure> -->\n",
    "<img src='./helpers/sample_plt.png'  width=500 height=600>\n",
    "\n",
    "<!-- <figcaption align='center'><b>A sample plot, you can use your own plotting template</b></figcaption>\n",
    "</figure> -->\n",
    "<!-- head over to [this page](https://saishubodh.notion.site/Non-Linear-Least-Squares-Solved-example-Computing-Jacobian-for-a-Gaussian-Gradient-Descent-7fd11ebfee034f8ca89cc78c8f1d24d9) -->"
   ]
  },
  {
   "cell_type": "markdown",
   "id": "cd295b4f",
   "metadata": {},
   "source": [
    "## Worked out Example using Gradient Descent\n",
    "\n",
    "A Gaussian distribution parametrized by $a,m,s$ is given by:\n",
    "\n",
    "$$ y(x;a,m,s)=a \\exp \\left(\\frac{-(x-m)^{2}}{2 s^{2}}\\right) \\tag{1}$$\n",
    "\n",
    "### Jacobian of Gaussian\n",
    "\n",
    "$$\\mathbf{J}_y=\\left[\\frac{\\partial y}{\\partial a} \\quad \\frac{\\partial y}{\\partial m} \\quad \\frac{\\partial y}{\\partial s}\\right] \\\\\n",
    "= \\left[ \\exp \\left(\\frac{-(x-m)^{2}}{2 s^{2}}\\right); \\frac{a (x-m)}{s^2} \\exp\\left(\\frac{-(x-m)^{2}}{2 s^{2}}\\right);  \\frac{a (x-m)^2}{s^3}\\exp \\left(\\frac{-(x-m)^{2}}{2 s^{2}}\\right)\\right]$$\n",
    "\n",
    "## Problem at hand\n",
    "\n",
    "> Given a set of observations $y_{obs}$ and $x_{obs}$ we want to find the optimum parameters $a,m,s$ which best fit our observations given an initial estimate.\n",
    "\n",
    "Our observations would generally be erroneous and given to us, but for the sake of knowing how good our model is performing, let us generate the observations ourselves by assuming the actual \"actual\" parameter values as $a_{gt}=10; m_{gt} =0; s_{gt} =20$ ($gt$ stands for ground truth). We will try to estimate these values based on our observations and let us see how close we get to \"actual\" parameters. Note that in reality we obviously don't have these parameters as that is exactly what we want to estimate in the first place. So let us consider the following setup, we have:\n",
    "\n",
    "- Number of observations, $num\\_obs = 50$\n",
    "- Our 50 set of observations would be\n",
    "    - $x_{obs} = np.linspace(-25,25, num\\_obs)$\n",
    "    - $y_{obs} = y(x_{obs};a_{gt},m_{gt},s_{gt})$  from $(1)$\n",
    "\n",
    "Reference:\n",
    "\n",
    "→[linspace](https://numpy.org/doc/stable/reference/generated/numpy.linspace.html)\n",
    "\n",
    "- Say we are given initial estimate as:\n",
    "\n",
    "    $$a_0=10; \\quad m_0=13; \\quad s_0=19.12$$\n",
    "\n",
    "### Residual and error to be minimized\n",
    "\n",
    "Okay, now we have set of observations and an initial estimate of parameters. We would now want to minimize an error that would give us optimum parameters.\n",
    "\n",
    "The $residual$ would be given by\n",
    "\n",
    "$$ r(a,m,s) = \\left[ a \\exp \\left(\\frac{-(x_{obs}-m)^{2}}{2 s^{2}}\\right) - y_{obs}\\ \\right]$$\n",
    "\n",
    "where we'd want to minimize $\\|r\\|^2$. Note that $r$ is a non-linear function in $(a,m,s)$.\n",
    "\n",
    "Also, note that since $y$ (and $x$) are observations in the above equation, after simplification, we get $\\mathbf{J}_r = \\mathbf{J}_y$ [above](https://www.notion.so/c9e6f71b67a44bb8b366df2fccfc12d0) (since $y_{obs}$ is a constant).\n",
    "\n",
    "Let us apply Gradient Descent method for minimization here. From [Table I](https://www.notion.so/From-linear-algebra-to-non-linear-weighted-least-squares-optimization-13cf17d318be4d45bb8577c4d3ea4a02),  \n",
    "\n",
    "$$\\Delta \\mathbf{k} = - \\alpha \\mathbf{J_F} = -\\alpha \\mathbf{J}_r^{\\top} {r}(\\mathbf{k})$$\n",
    "\n",
    "Note that $\\mathbf{J_F}$ is the Jacobian of \"non-linear least squares\" function $\\mathbf{F}$ while $\\mathbf{J}_r$ is the Jacobian of the residual. \n",
    "\n",
    "where $\\mathbf{k}$ is $[a,m,s]^T$. \n",
    "\n",
    "- Some hyperparameters:\n",
    "    - Learning rate, $lr = 0.01$\n",
    "    - Maximum number of iterations, $num\\_iter=200$\n",
    "    - Tolerance, $tol = 1e-15$\n",
    "\n",
    "## Solution for 1 iteration\n",
    "\n",
    "To see how each step looks like, let us solve for 1 iteration and for simpler calculations, assume we have 3 observations, \n",
    "\n",
    "$$x_{obs}= \\left[ -25, 0, 25 \\right]^T, y_{obs} = \\left[  4.5783, 10, 4.5783 \\right]^T. $$\n",
    "\n",
    "With our initial estimate as $\\mathbf{k_0} = [a_0=10, \\quad m_0=13, \\quad s_0=19.12]^T$, the residual would be \n",
    "\n",
    "$$ r(a_0,m_0,s_0) = \\left[ a_0 \\exp \\left(\\frac{-(x_{obs}-m_0)^{2}}{2 s_0^{2}}\\right) - y_{obs}\\ \\right]$$\n",
    "\n",
    "Therefore, $r=[-3.19068466, -2.0637411 , 3.63398058]^T$.\n",
    "\n",
    "### Gradient Computation\n",
    "\n",
    "Gradient, $\\mathbf{J_F}$=\n",
    "\n",
    "$$\\mathbf{J_r}^{\\top} \\mathbf{r}(\\mathbf{k})$$\n",
    "\n",
    "We have calculated residual already [above](https://www.notion.so/c9e6f71b67a44bb8b366df2fccfc12d0), let us calculate the Jacobian $\\mathbf{J_r}$.\n",
    "\n",
    "$$\\mathbf{J}_r\n",
    "= \\left[ \\exp \\left(\\frac{-(x-m)^{2}}{2 s^{2}}\\right); \\frac{a (x-m)}{s^2} \\exp\\left(\\frac{-(x-m)^{2}}{2 s^{2}}\\right);  \\frac{a (x-m)^2}{s^3}\\exp \\left(\\frac{-(x-m)^{2}}{2 s^{2}}\\right)\\right]$$\n",
    "\n",
    "$$\\implies \\mathbf{J_r} = \\left[ \\begin{array}{rrr}0.1387649 & 0.79362589, & 0.82123142 \\\\-0.14424057 & -0.28221715  & 0.26956967 \\\\0.28667059 & 0.19188405, & 0.16918599\\end{array}\\right]$$\n",
    "\n",
    "So ,\n",
    "\n",
    "$$\\mathbf{J_F} = \\mathbf{J_r}^{\\top} \\mathbf{r}(\\mathbf{k})$$\n",
    "\n",
    "$$\\mathbf{r}(\\mathbf{k}) =  \\left[ \\begin{array}{r}-3.19068466 \\\\ -2.0637411 \\\\ 3.63398058 \\end{array} \\right]$$\n",
    "\n",
    "$$ \\begin{aligned} \\implies \\mathbf{J_F} = \\left[ \\begin{array}{r} 0.89667553 \\\\ -1.25248392 \\\\-2.56179392\\end{array} \\right] \\end{aligned}$$\n",
    "\n",
    "### Update step\n",
    "\n",
    "$$\n",
    "\\Delta \\mathbf{k} = - \\alpha \\mathbf{J_F} \\\\\n",
    "\\mathbf{k}^{t+1} = \\mathbf{k}^t + \\Delta \\mathbf{k}\n",
    "$$\n",
    "\n",
    "Here, $\\alpha$ our learning rate is 0.01.\n",
    "\n",
    "$$\n",
    "\\Delta \\mathbf{k} = - \\alpha\\times\\left[ \\begin{array}{r} \n",
    "0.89667553 \\\\ -1.25248392 \\\\-2.56179392\n",
    "\\end{array} \\right] = \\left[ \\begin{array}{r}\n",
    "-0.00896676 \\\\ 0.01252484 \\\\0.02561794\n",
    "\\end{array}\\right]\n",
    "$$\n",
    "\n",
    "$$\n",
    "\\mathbf{k}^{1} = \\mathbf{k}^{0} + \\Delta \\mathbf{k} \\\\ \\left[\\begin{array}{r} 10 \\\\ 13 \\\\ 19.12 \\end{array}\\right] + \\left[\\begin{array}{c} 9.99103324 \\\\ 13.01252484 \\\\ 19.14561794 \\end{array} \\right]\n",
    "$$\n",
    "\n",
    "With just one iteration with very few observations, we can see that we have gotten *slightly* more closer to our GT parameter  $a_{gt}=10; m_{gt} =0; s_{gt} =20$. Our initial estimate was $[a_0=10, \\quad m_0=13, \\quad s_0=19.12]$. However, the above might not be noticeable enough: Hence you need to code it for more iterations and convince yourself as follows:"
   ]
  },
  {
   "cell_type": "code",
   "execution_count": 2,
   "id": "493cc8b1",
   "metadata": {},
   "outputs": [],
   "source": [
    "from helpers.func import make_gaussian"
   ]
  },
  {
   "cell_type": "code",
   "execution_count": 3,
   "id": "95c3b5ec",
   "metadata": {},
   "outputs": [],
   "source": [
    "def get_Jr_Gaussian(y_exp,x,a,m,s):\n",
    "    da = y_exp/a\n",
    "    dm = y_exp*(x-m)/(s**2)\n",
    "    ds = ( y_exp*( ((x-m)**2)/(s**2) - 1 ) )/s\n",
    "    Jr = np.array([da,dm,ds]).T\n",
    "    return Jr\n",
    "\n",
    "def get_residue(y_exp,y_o):\n",
    "    return y_exp-y_o"
   ]
  },
  {
   "cell_type": "code",
   "execution_count": 4,
   "id": "2255603f",
   "metadata": {},
   "outputs": [
    {
     "name": "stdout",
     "output_type": "stream",
     "text": [
      "10.571618003325147 0.5359932279214888 21.701061788658443\n"
     ]
    },
    {
     "data": {
      "image/png": "[encoded data removed]",
      "text/plain": [
       "<Figure size 1152x576 with 2 Axes>"
      ]
     },
     "metadata": {
      "needs_background": "light"
     },
     "output_type": "display_data"
    }
   ],
   "source": [
    "num_obs = 50\n",
    "a_gt ,m_gt,s_gt = 10,0,20\n",
    "x_o = np.linspace(-25,25,num_obs)\n",
    "y_o = make_gaussian(x_o,a_gt,m_gt,s_gt)\n",
    "\n",
    "epoch = 4000\n",
    "lr = 1\n",
    "\n",
    "a,m,s = 10,13,19.12\n",
    "cost = []\n",
    "\n",
    "for i in range(epoch):\n",
    "    \n",
    "    y_exp = make_gaussian(x_o,a,m,s)\n",
    "    \n",
    "    Jr = get_Jr_Gaussian(y_exp,x_o,a,m,s)\n",
    "    r  = get_residue(y_exp,y_o)\n",
    "    \n",
    "    Jf = np.matmul(Jr.T,r)\n",
    "    \n",
    "    dk = -lr*Jf\n",
    "    \n",
    "    a,m,s = a+dk[0],m+dk[1],s+dk[2]\n",
    "    \n",
    "    cost.append(np.sum(r**2))\n",
    "\n",
    "plt.figure(figsize=(16,8))\n",
    "plt.subplot(1,2,1)\n",
    "plt.plot(cost)\n",
    "plt.title('Loss Function')\n",
    "plt.xlabel('iterations')\n",
    "plt.ylabel('Loss')\n",
    "plt.subplot(1,2,2)\n",
    "plt.plot(x_o,make_gaussian(x_o,a,m,s),marker=\"x\")\n",
    "plt.plot(x_o,y_o,color=\"r\")\n",
    "plt.title('Gaussian function')\n",
    "plt.legend([\"ground truth\",\"predicted\"])\n",
    "print(a,m,s)"
   ]
  },
  {
   "cell_type": "markdown",
   "id": "47967426",
   "metadata": {},
   "source": [
    "## 1.2: Another Non-Linear function\n",
    "Now that you've got the hang of computing the jacobian matrix for a non-linear function via the aid of an example, try to compute the jacobian of a secondary gaussian function by carrying out steps similar to what has been shown above. The function is plotted below:\n",
    "<img src='./helpers/non_linear.png' alt=drawing width=500 height=600>\n",
    "Using the computed jacobian, optimise for the four parameters using gradient descent, where the parameters to be estimated are: \n",
    "\n",
    "$p_1$ = 2,  $p_2$ = 8,  $p_3$ = 4,  $p_4$ = 8. \n",
    "\n",
    "Do this for $x_{obs} = np.linspace(-20,30, num\\_obs)$,\n",
    "where $num\\_obs$ is 50.\n",
    "\n"
   ]
  },
  {
   "cell_type": "code",
   "execution_count": 5,
   "id": "2f8d5f14",
   "metadata": {},
   "outputs": [],
   "source": [
    "from helpers.func import make_non_linear"
   ]
  },
  {
   "cell_type": "code",
   "execution_count": 6,
   "id": "0d8f1de5",
   "metadata": {},
   "outputs": [],
   "source": [
    "def get_Jr_NL(x,p1,p2,p3,p4):\n",
    "    y_exp = make_non_linear(x,p1,p2,p3,p4)\n",
    "    dp1 = np.exp(-x/p2)\n",
    "    dp2 = p1*np.exp(-x/p2)*(x/p2**2)\n",
    "    dp3 = np.sin(x/p4)\n",
    "    dp4 = p3*np.cos(x/p4)*(-x/p4**2)\n",
    "    Jr = np.array([dp1,dp2,dp3,dp4]).T\n",
    "    return Jr"
   ]
  },
  {
   "cell_type": "code",
   "execution_count": 8,
   "id": "e1b65816",
   "metadata": {},
   "outputs": [],
   "source": [
    "num_obs = 50\n",
    "p1_gt,p2_gt,p3_gt,p4_gt = 2,8,4,8\n",
    "x_o = np.linspace(-20,30,num_obs)\n",
    "y_o = make_non_linear(x_o,p1_gt,p2_gt,p3_gt,p4_gt)"
   ]
  },
  {
   "cell_type": "code",
   "execution_count": 9,
   "id": "c7a1de16",
   "metadata": {},
   "outputs": [
    {
     "data": {
      "text/plain": [
       "<matplotlib.legend.Legend at 0x7f340a4f1fa0>"
      ]
     },
     "execution_count": 9,
     "metadata": {},
     "output_type": "execute_result"
    },
    {
     "data": {
      "image/png": "[encoded data removed]",
      "text/plain": [
       "<Figure size 1152x576 with 2 Axes>"
      ]
     },
     "metadata": {
      "needs_background": "light"
     },
     "output_type": "display_data"
    }
   ],
   "source": [
    "epoch = 1000\n",
    "lr = 0.001\n",
    "\n",
    "p1,p2,p3,p4 = 13,20,20,10\n",
    "cost = []\n",
    "for i in range(epoch):\n",
    "    y_exp = make_non_linear(x_o,p1,p2,p3,p4)\n",
    "    Jr = get_Jr_NL(x_o,p1,p2,p3,p4)\n",
    "    r  = get_residue(y_exp,y_o)\n",
    "    Jf = np.matmul(Jr.T,r)\n",
    "    dk = -lr*Jf\n",
    "    p1,p2,p3,p4 = p1+dk[0],p2+dk[1],p3+dk[2],p4+dk[3]\n",
    "    cost.append(np.sum(r**2))\n",
    "\n",
    "plt.figure(figsize=(16,8))\n",
    "plt.subplot(1,2,1)\n",
    "plt.plot(cost)\n",
    "plt.title('Loss Function')\n",
    "plt.xlabel('iterations')\n",
    "plt.ylabel('Loss')\n",
    "plt.subplot(1,2,2)\n",
    "plt.plot(x_o,make_non_linear(x_o,p1,p2,p3,p4),marker=\"x\")\n",
    "plt.plot(x_o,y_o,color=\"r\")\n",
    "plt.title('Non-Linear function')\n",
    "plt.legend([\"ground truth\",\"predicted\"])"
   ]
  },
  {
   "cell_type": "markdown",
   "id": "ab5f3a53",
   "metadata": {},
   "source": [
    "## 1.3: Different Optimizers\n",
    "\n",
    "Replace gradient descent with Gauss-Newton and Levenberg Marquardt algorithms and repeat question 1.1. \n",
    "\n",
    "To quickly recap, Gauss-Newton and Levenberg Marquardt are alternate update rules to the standard gradient descent. Gauss Newton updates work as:\n",
    "\n",
    "$$\\delta x = -(J^TJ)^{-1}J^Tf(x)$$\n",
    "\n",
    "Levenberg Marquardt lies somewhere between Gauss Newton and Gradient Descent algorithms by blending the two formulations. As a result, when at a steep cliff, LM takes small steps to avoid overshooting, and when at a gentle slope, LM takes bigger steps:\n",
    "\n",
    "\n",
    "$$\\delta x = -(J^TJ + \\lambda I)^{-1}J^Tf(x)$$"
   ]
  },
  {
   "cell_type": "markdown",
   "id": "84859116",
   "metadata": {},
   "source": [
    "**Questions**\n",
    "   * 1. How does the choice of initial estimate and learning rate affect convergence? Observations and analysis from repeated runs with modified hyperparameters will suffice.\n",
    "   * 2. Do you notice any difference between the three optimizers? Why do you think that is? (If you are unable to see a clear trend, what would you expect in general based on what you know about them)"
   ]
  },
  {
   "cell_type": "markdown",
   "id": "42475343",
   "metadata": {},
   "source": [
    "## Solutions\n",
    "\n",
    "1. If the initial estimate is not near the ideal value, the algorithm converges to another local minima or sometimes the gradient explodes and the Loss function diverges.\n",
    "\n",
    "\n",
    "2. Gradient descent takes too long to converge. Gauss newton and LM converges very quickly. The decrease in loss of gauss newton is similar to Gradient descent but quicker while the decrease in loss of LM is quite different . This is because, whenever the loss changes, we change the value of lambda. In Gauss Newton, we directly subtract the gradient instead of multiplying it with a constant factor . As a result of this , whenever the gradient is large , it takes a big step and when it is small, it takes a small step. This is the result why it converges quicker than Gradient Descent"
   ]
  },
  {
   "cell_type": "code",
   "execution_count": 49,
   "id": "54aaa618",
   "metadata": {},
   "outputs": [
    {
     "ename": "NameError",
     "evalue": "name 'make_gaussian' is not defined",
     "output_type": "error",
     "traceback": [
      "\u001b[0;31m---------------------------------------------------------------------------\u001b[0m",
      "\u001b[0;31mNameError\u001b[0m                                 Traceback (most recent call last)",
      "\u001b[0;32m/tmp/ipykernel_5100/4009652603.py\u001b[0m in \u001b[0;36m<module>\u001b[0;34m\u001b[0m\n\u001b[1;32m      4\u001b[0m \u001b[0ma_gt\u001b[0m \u001b[0;34m,\u001b[0m\u001b[0mm_gt\u001b[0m\u001b[0;34m,\u001b[0m\u001b[0ms_gt\u001b[0m \u001b[0;34m=\u001b[0m \u001b[0;36m10\u001b[0m\u001b[0;34m,\u001b[0m\u001b[0;36m0\u001b[0m\u001b[0;34m,\u001b[0m\u001b[0;36m20\u001b[0m\u001b[0;34m\u001b[0m\u001b[0;34m\u001b[0m\u001b[0m\n\u001b[1;32m      5\u001b[0m \u001b[0mx_o\u001b[0m \u001b[0;34m=\u001b[0m \u001b[0mnp\u001b[0m\u001b[0;34m.\u001b[0m\u001b[0mlinspace\u001b[0m\u001b[0;34m(\u001b[0m\u001b[0;34m-\u001b[0m\u001b[0;36m25\u001b[0m\u001b[0;34m,\u001b[0m\u001b[0;36m25\u001b[0m\u001b[0;34m,\u001b[0m\u001b[0mnum_obs\u001b[0m\u001b[0;34m)\u001b[0m\u001b[0;34m\u001b[0m\u001b[0;34m\u001b[0m\u001b[0m\n\u001b[0;32m----> 6\u001b[0;31m \u001b[0my_o\u001b[0m \u001b[0;34m=\u001b[0m \u001b[0mmake_gaussian\u001b[0m\u001b[0;34m(\u001b[0m\u001b[0mx_o\u001b[0m\u001b[0;34m,\u001b[0m\u001b[0ma_gt\u001b[0m\u001b[0;34m,\u001b[0m\u001b[0mm_gt\u001b[0m\u001b[0;34m,\u001b[0m\u001b[0ms_gt\u001b[0m\u001b[0;34m)\u001b[0m\u001b[0;34m\u001b[0m\u001b[0;34m\u001b[0m\u001b[0m\n\u001b[0m\u001b[1;32m      7\u001b[0m \u001b[0;34m\u001b[0m\u001b[0m\n\u001b[1;32m      8\u001b[0m \u001b[0mepoch\u001b[0m \u001b[0;34m=\u001b[0m \u001b[0;36m10\u001b[0m\u001b[0;34m\u001b[0m\u001b[0;34m\u001b[0m\u001b[0m\n",
      "\u001b[0;31mNameError\u001b[0m: name 'make_gaussian' is not defined"
     ]
    }
   ],
   "source": [
    "### Gauss-Newton ###\n",
    "\n",
    "num_obs = 50\n",
    "a_gt ,m_gt,s_gt = 10,0,20\n",
    "x_o = np.linspace(-25,25,num_obs)\n",
    "y_o = make_gaussian(x_o,a_gt,m_gt,s_gt)\n",
    "\n",
    "epoch = 10\n",
    "\n",
    "a,m,s = 10,13,19.12\n",
    "cost = []\n",
    "\n",
    "for i in range(epoch):\n",
    "    \n",
    "    y_exp = make_gaussian(x_o,a,m,s)\n",
    "    \n",
    "    Jr = get_Jr_Gaussian(y_exp,x_o,a,m,s)\n",
    "    r  = get_residue(y_exp,y_o)\n",
    "    \n",
    "    Jf = np.matmul(np.matmul(np.linalg.pinv(np.matmul(Jr.T,Jr)),Jr.T),r)\n",
    "    \n",
    "    dk = -Jf\n",
    "    \n",
    "    print(dk)\n",
    "    a,m,s = a+dk[0],m+dk[1],s+dk[2]\n",
    "    \n",
    "    cost.append(np.sum(r**2))\n",
    "\n",
    "plt.figure(figsize=(16,8))\n",
    "plt.subplot(1,2,1)\n",
    "plt.plot(cost)\n",
    "plt.title('Loss Function')\n",
    "plt.xlabel('iterations')\n",
    "plt.ylabel('Loss')\n",
    "plt.subplot(1,2,2)\n",
    "plt.plot(x_o,make_gaussian(x_o,a,m,s),marker=\"x\")\n",
    "plt.plot(x_o,y_o,color=\"r\")\n",
    "plt.title('Gaussian function')\n",
    "plt.legend([\"ground truth\",\"predicted\"])\n",
    "print(a,m,s)"
   ]
  },
  {
   "cell_type": "code",
   "execution_count": 57,
   "id": "5547ab2f",
   "metadata": {},
   "outputs": [
    {
     "name": "stdout",
     "output_type": "stream",
     "text": [
      "9.999999999961478 4.441114975633059e-12 19.99999999988691\n"
     ]
    },
    {
     "data": {
      "image/png": "[encoded data removed]",
      "text/plain": [
       "<Figure size 1152x576 with 2 Axes>"
      ]
     },
     "metadata": {
      "needs_background": "light"
     },
     "output_type": "display_data"
    }
   ],
   "source": [
    "### Levenberg Marquardt ###\n",
    "\n",
    "num_obs = 50\n",
    "a_gt ,m_gt,s_gt = 10,0,20\n",
    "x_o = np.linspace(-25,25,num_obs)\n",
    "y_o = make_gaussian(x_o,a_gt,m_gt,s_gt)\n",
    "\n",
    "epoch = 10\n",
    "\n",
    "a,m,s = 10,13,19.12\n",
    "cost = []\n",
    "\n",
    "identity = np.eye(3,3)\n",
    "Lambda = 1\n",
    "\n",
    "for i in range(epoch):\n",
    "    \n",
    "    y_exp = make_gaussian(x_o,a,m,s)\n",
    "    \n",
    "    Jr = get_Jr_Gaussian(y_exp,x_o,a,m,s)\n",
    "    r  = get_residue(y_exp,y_o)\n",
    "    \n",
    "    Jf = np.matmul(np.matmul(np.linalg.pinv(np.matmul(Jr.T,Jr)+Lambda*identity),Jr.T),r)\n",
    "    \n",
    "    dk = -Jf\n",
    "    \n",
    "    a_prev,m_prev,s_prev = a,m,s\n",
    "    \n",
    "    a,m,s = a+dk[0],m+dk[1],s+dk[2]\n",
    "    \n",
    "    cost.append(np.sum(r**2))\n",
    "\n",
    "    if i == 0:\n",
    "        continue\n",
    "    \n",
    "    if cost[i] > cost[i-1]:\n",
    "        a,m,s = a_prev,m_prev,s_prev\n",
    "        Lambda = Lambda*10\n",
    "    else:\n",
    "        Lambda = Lambda*0.1\n",
    "        \n",
    "plt.figure(figsize=(16,8))\n",
    "plt.subplot(1,2,1)\n",
    "plt.plot(cost)\n",
    "plt.title('Loss Function')\n",
    "plt.xlabel('iterations')\n",
    "plt.ylabel('Loss')\n",
    "plt.subplot(1,2,2)\n",
    "plt.plot(x_o,make_gaussian(x_o,a,m,s),marker=\"x\")\n",
    "plt.plot(x_o,y_o,color=\"r\")\n",
    "plt.title('Gaussian function')\n",
    "plt.legend([\"ground truth\",\"predicted\"])\n",
    "print(a,m,s)"
   ]
  },
  {
   "cell_type": "markdown",
   "id": "e52fc17c",
   "metadata": {},
   "source": [
    "# 2. Iterative Closest Point\n",
    "\n",
    "In this subsection, we will code the Iterative Closest Point algorithm to find the alignment between two point clouds without known correspondences. The point cloud that you will be using is the same as the one that you used in Assignment 1.\n",
    "\n",
    "## 2.1: Procrustes alignment\n",
    "\n",
    "1. Write a function that takes two point clouds as input wherein the corresponding points between the two point clouds are located at the same index and returns the transformation matrix between them.\n",
    "2. Use the bunny point cloud and perform the procrustes alignment between the two bunnies. Compute the absolute alignment error after aligning the two bunnies.\n",
    "3. Make sure your code is modular as we will use this function in the next sub-part.\n",
    "4. Prove mathematically why the Procrustes alignment gives the best aligning transform between point clouds with known correspondences.\n"
   ]
  },
  {
   "cell_type": "code",
   "execution_count": 2,
   "id": "f44cbbff",
   "metadata": {},
   "outputs": [],
   "source": [
    "def procrustes(x,y):\n",
    "    n = x.shape[0]\n",
    "    x0 = np.sum(x,axis=0)/n\n",
    "    y0 = np.sum(y,axis=0)/n\n",
    "    H = np.matmul((x-x0).T,y-y0)\n",
    "    u,s,vh = np.linalg.svd(H)\n",
    "    R = np.matmul(vh.T,u.T)\n",
    "    t = y0 - np.matmul(R,x0)\n",
    "    T = np.empty((4,4))\n",
    "    T[:3,:3] = R\n",
    "    T[:3,3] = t\n",
    "    T[3,:] = np.array([0,0,0,1])\n",
    "    \n",
    "    return T"
   ]
  },
  {
   "cell_type": "code",
   "execution_count": 3,
   "id": "a9a12340",
   "metadata": {},
   "outputs": [],
   "source": [
    "pi = math.pi\n",
    "T = np.array([ [ 1 , 0 , 0 , 1 ] ,\n",
    "               [ 0 , math.cos(pi/3) , -math.sin(pi/3) , 0 ] ,\n",
    "               [ 0 , math.sin(pi/3) , math.cos(pi/3) , -2 ] ,\n",
    "               [ 0 , 0 , 0 , 1 ]  ])"
   ]
  },
  {
   "cell_type": "code",
   "execution_count": 5,
   "id": "9cb18150",
   "metadata": {},
   "outputs": [
    {
     "name": "stdout",
     "output_type": "stream",
     "text": [
      "[[ 1.00000000e+00 -1.55149233e-16  4.01631151e-17  1.00000000e+00]\n",
      " [ 1.49748948e-16  5.00000000e-01 -8.66025404e-01  4.85722573e-17]\n",
      " [ 9.07910863e-17  8.66025404e-01  5.00000000e-01 -2.00000000e+00]\n",
      " [ 0.00000000e+00  0.00000000e+00  0.00000000e+00  1.00000000e+00]]\n"
     ]
    },
    {
     "data": {
      "text/plain": [
       "2.425404358470288e-25"
      ]
     },
     "execution_count": 5,
     "metadata": {},
     "output_type": "execute_result"
    }
   ],
   "source": [
    "bunny_mesh = o3d.io.read_triangle_mesh(\"./bunny.ply\")\n",
    "bunny_mesh.compute_vertex_normals()\n",
    "\n",
    "bunny_pcd1 = bunny_mesh.sample_points_poisson_disk(15000)\n",
    "\n",
    "points = np.asarray(bunny_pcd1.points)\n",
    "transformed_points = np.matmul(points,T[:3,:3].T) + T[:3,3]\n",
    "bunny_pcd2 = o3d.geometry.PointCloud()\n",
    "bunny_pcd2.points = o3d.utility.Vector3dVector(transformed_points)\n",
    "p1 = np.asarray(bunny_pcd1.points)\n",
    "p2 = np.asarray(bunny_pcd2.points)\n",
    "T_computed = procrustes(p1,p2)\n",
    "print(T_computed)\n",
    "bunny_pcd1.transform(T_computed)\n",
    "p1 = np.asarray(bunny_pcd1.points)\n",
    "p2 = np.asarray(bunny_pcd2.points)\n",
    "np.sum((p1-p2)**2)"
   ]
  },
  {
   "cell_type": "markdown",
   "id": "b0a7ddc2",
   "metadata": {},
   "source": [
    "### 4. Prove mathematically why the Procrustes alignment gives the best aligning transform between point clouds with known correspondences.\n",
    "\n",
    "Let $X,Y$ be two point sets with known correspondences. Further , let $i^{th}$ point in $X$ corresponds to $i^{th}$ point in $Y$.\n",
    "\n",
    "We want to find $R,t$ such that $Rx_n + t$ is as close as possible to $y_n$ where $n = 1,2,...,N $ ,i.e.,\n",
    "\n",
    "\\begin{equation*}\n",
    "\\begin{aligned}\n",
    "& \\underset{{R,t}}{\\text{argmin}}\n",
    "& & \\sum_{n=1}^{N}\\|y_n-Rx_n-t\\|_2^2p_n \\\\\n",
    "& \\text{subject to}\n",
    "& & R^TR = I.\n",
    "\\end{aligned}\n",
    "\\end{equation*}\n",
    "where $p_n$ is the weight given to each observation ( here it is same for all points).\n",
    "\n",
    "The constraint uses the fact that the rotation matrix $R$ is orthonormal.\n",
    "\n",
    "Let $y_0 = \\frac{\\sum y_np_n}{\\sum p_n}$ \n",
    "\n",
    "$\\sum \\|y_n-Rx_n-t\\|_2^2p_n = \\sum \\|y_n-y_0+y_0-Rx_n-t\\|_2^2p_n = \\sum \\|y_n-y_0-(Rx_n+t-y_0)\\|_2^2p_n$\n",
    "\n",
    "Letting $x_0 = R^Ty_0 - R^Tt$\n",
    "\n",
    "\\begin{gather}\n",
    "\\begin{split}\n",
    "\\sum \\|y_n-Rx_n-t\\|_2^2p_n &= \\sum \\|y_n-y_0-R(x_n+R^Tt-R^Ty_0)\\|_2^2p_n \\notag\\\\\n",
    "&= \\sum \\|y_n-y_0-R(x_n-x_0)\\|_2^2p_n \\notag\\\\\n",
    "&= \\sum (y_n-y_0-R(x_n-x_0))^T(y_n-y_0-R(x_n-x_0))p_n \\notag\\\\\n",
    "f(x_0,R) &= \\sum (y_n-y_0)^T(y_n-y_0)p_n - 2\\sum (y_n-y_0)^TR(x_n-x_0)p_n + \\sum (x_n-x_0)^T(x_n-x_0)p_n \\notag\\\\\n",
    " \\end{split}\n",
    "\\end{gather}\n",
    "\n",
    "The original problem then becomes :\n",
    "\\begin{equation*}\n",
    "\\begin{aligned}\n",
    "& \\underset{{R,x_0}}{\\text{argmin}}\n",
    "& & f(x_0,R) \\\\\n",
    "& \\text{subject to}\n",
    "& & R^TR = I.\n",
    "\\end{aligned}\n",
    "\\end{equation*}\n",
    "\n",
    "Taking partial derivative of $f$ with respect to $x_0$ and equating to $0$ gives :\n",
    "\\begin{equation*}\n",
    "2\\sum R^T(y_n-y_0)p_n - 2\\sum (x_n-x_0)p_n = 0\\\\\n",
    "\\sum (x_n-x_0)p_n = \\sum R^T(y_n-y_0)p_n\\\\\n",
    "x_0\\sum p_n = \\sum x_np_n - R^T\\sum (y_n-y_0)p_n\\\\\n",
    "\\end{equation*}\n",
    "Note that , $\\sum (y_n-y_0)p_n = \\sum y_np_n - y_0\\sum p_n = 0$:\n",
    "\\begin{equation*}\n",
    "x_0 = \\frac{\\sum x_np_n}{\\sum p_n}\\\\\n",
    "\\end{equation*}\n",
    "This is the value of $x_0$ that minimizes $f$.\n",
    "\n",
    "Let $a_n = x_n - x_0$ and $b_n=y_n-y_0$, $f$ becomes:\n",
    "\\begin{equation*}\n",
    "f(x_0,R) = \\sum b_n^Tb_np_n - 2\\sum b_n^TRa_np_n + \\sum a_n^Ta_np_n \n",
    "\\end{equation*}\n",
    "\n",
    "Minimizing $f$ with respect to R will be same as maximizing $\\sum b_n^TRa_np_n$ with respect to R ,i.e., \n",
    "\n",
    "$$\\underset{{R}}{\\text{argmin}}f(x_0,R) = \\underset{{R}}{\\text{argmax}}\\sum b_n^TRa_np_n$$\n",
    "\n",
    "\\begin{gather}\n",
    "\\begin{split}\n",
    "\\sum b_n^TRa_np_n &= Tr\\left(\\sum Ra_nb_n^Tp_n\\right) \\notag\\\\\n",
    "&= Tr\\left(R\\sum a_nb_n^Tp_n\\right) = Tr(RH)\\notag\\\\\n",
    "\\end{split}\n",
    "\\end{gather}\n",
    "\n",
    "where $H = \\sum a_nb_n^Tp_n$ is a 3x3 matrix\n",
    "\n",
    "#### Lemma:\n",
    "For any positive semi-definite matrix $AA^T$ and any orthonormal matrix $B$ ,\n",
    "    $$ Tr(AA^T) \\geq Tr(BAA^T)$$\n",
    "#### Proof:\n",
    "$Tr(BAA^T) = Tr(A^TBA) = \\sum_{i}a_i^TBa_i$\n",
    "\n",
    "where $a_i$ is $i^{th}$ coloumn of $A$\n",
    "\n",
    "using Cauchy-Schwartz inequality:\n",
    "\\begin{gather}\n",
    "\\begin{split}\n",
    "a_i^TBa_i &\\leq \\|a_i\\|\\|Ba_i\\| \\notag\\\\\n",
    "&\\leq \\sqrt{a_i^Ta_i}\\sqrt{(Ba_i)^TBa_i} \\notag\\\\\n",
    "&\\leq \\sqrt{a_i^Ta_i}\\sqrt{a_i^TB^TBa_i} \\notag\\\\\n",
    "\\text{$B$ is orthonormal ,i.e., $BB^T = I$}\\\\\n",
    "&\\leq a_i^Ta_i\n",
    "\\end{split}\n",
    "\\end{gather}\n",
    "\n",
    "Therfore , $\\sum_{i}a_i^TBa_i \\leq \\sum_{i}a_i^Ta_i$\n",
    "$\\implies$ $Tr(AA^T) \\geq Tr(BAA^T)$\n",
    "\n",
    "Consider the SVD of $H$:\n",
    "$$ H = U \\Sigma V^T$$\n",
    "$U,V$ will be orthonormal matrices , $\\Sigma$ is a diagonal matrix \n",
    "Assuming $H$ is full rank ( if this is not true then there wont be a unique solution )\n",
    "\n",
    "Let $X = VU^T$ , X will be a 3x3 orthonormal matrix\n",
    "\n",
    "$ XH = VU^TU\\Sigma V^T = V\\Sigma V^T$\n",
    "\n",
    "Since $\\Sigma$ is a diagonal matrix with non-negative values $\\sigma_1,\\sigma_2,..$ on the diagonal, we can write ,\n",
    "$$XH = V  \\Sigma^{\\frac{1}{2}} {\\Sigma^T}^{\\frac{1}{2}} V^T$$\n",
    "where $\\Sigma^{\\frac{1}{2}}$ is a diagonal matrix with diagonal entries as $\\sqrt{\\sigma_1},\\sqrt{\\sigma_2},..$\n",
    "$$XH = V  \\Sigma^{\\frac{1}{2}} ({V{\\Sigma}^{\\frac{1}{2}}})^T$$\n",
    "From Lemma ,\n",
    "$$Tr(XH) \\geq Tr(BXH)$$\n",
    "for any orthonormal matrix $B$\n",
    "\n",
    "$Tr(BXH)$ is maximum when $B=I$\n",
    "Among all 3x3 orthonormal matrices $X$ maximizes the value $Tr(XH)$\n",
    "\n",
    "Therefore , $Tr(RH)$ will be maximum when $R = X$\n",
    "\n",
    "\\begin{equation*}\n",
    "R = VU^T\\\\\n",
    "x_0 = \\frac{\\sum x_np_n}{\\sum p_n} \\\\\n",
    "\\end{equation*}\n",
    "\n",
    "Since $x_0 = R^Ty_0 - R^Tt$ we get , \n",
    "\\begin{equation*}\n",
    "t = y_0 - Rx_0\n",
    "\\end{equation*}\n",
    "\n",
    "We obtained this solution by minimizing the mean square error between two point sets , thus , Procrustes alignment gives the best aligning transform between point clouds with known correspondences"
   ]
  },
  {
   "cell_type": "markdown",
   "id": "df4a47b1",
   "metadata": {},
   "source": [
    "## 2.2: ICP alignment\n",
    "\n",
    "1. Write a function that takes two point clouds as input without known correspondences and perform the iterative closest point algorithm.\n",
    "2. Perform the ICP alignment between the two bunnies and plot their individual coordinate frames as done in class.\n",
    "3. Does ICP always give the correct alignment? Why or Why not?\n",
    "4. What are other variants of ICP and why are they helpful (you can look at point to plane ICP)?"
   ]
  },
  {
   "cell_type": "code",
   "execution_count": 6,
   "id": "18e35c91",
   "metadata": {},
   "outputs": [],
   "source": [
    "def custom_visualize(geometry_list,front=None,lookat=None,up=None):\n",
    "    vis = o3d.visualization.Visualizer()\n",
    "    vis.create_window()\n",
    "    for i in geometry_list:\n",
    "        vis.add_geometry(i)\n",
    "    if(front):\n",
    "        o3d.visualization.ViewControl.set_front(vis.get_view_control(), front)\n",
    "    if(lookat):\n",
    "        o3d.visualization.ViewControl.set_lookat(vis.get_view_control(), lookat)\n",
    "    if(up):\n",
    "        o3d.visualization.ViewControl.set_up(vis.get_view_control(), up)\n",
    "    vis.run()\n",
    "    vis.destroy_window()"
   ]
  },
  {
   "cell_type": "code",
   "execution_count": 40,
   "id": "23938522",
   "metadata": {},
   "outputs": [],
   "source": [
    "def get_rotation_matrix(a,b,c):\n",
    "    rotation_matrix = np.array([[np.cos(a)*np.cos(b),np.cos(a)*np.sin(b)*np.sin(c) - np.sin(a)*np.cos(c) , np.cos(a)*np.sin(b)*np.cos(c) + np.sin(a)*np.sin(c)],\n",
    "                                [np.sin(a)*np.cos(b),np.sin(a)*np.sin(b)*np.sin(c) + np.cos(a)*np.cos(c) , np.sin(a)*np.sin(b)*np.cos(c) - np.cos(a)*np.sin(c)],\n",
    "                                [-np.sin(b),np.cos(b)*np.sin(c), np.cos(b)*np.cos(c)]])\n",
    "    return rotation_matrix\n"
   ]
  },
  {
   "cell_type": "code",
   "execution_count": 57,
   "id": "457cd07f",
   "metadata": {},
   "outputs": [
    {
     "name": "stdout",
     "output_type": "stream",
     "text": [
      "[[ 0.93660783 -0.11816505  0.32985268  0.2       ]\n",
      " [ 0.16514923  0.97916431 -0.11816505  0.        ]\n",
      " [-0.30901699  0.16514923  0.93660783  0.        ]\n",
      " [ 0.          0.          0.          1.        ]]\n"
     ]
    }
   ],
   "source": [
    "pi = math.pi\n",
    "R= get_rotation_matrix(pi/18,pi/10,pi/18)\n",
    "T = np.zeros([4,4])\n",
    "T[:3,:3] = R\n",
    "T[3,:] = np.array([0,0,0,1])\n",
    "T[:3,3] = np.array([0.2,0,0]).T\n",
    "# np.matmul(R,R.T)\n",
    "print(T)"
   ]
  },
  {
   "cell_type": "code",
   "execution_count": 58,
   "id": "a782a653",
   "metadata": {},
   "outputs": [],
   "source": [
    "bunny_mesh = o3d.io.read_triangle_mesh(\"./bunny.ply\")\n",
    "bunny_mesh.compute_vertex_normals()\n",
    "\n",
    "num_points = 15000\n",
    "bunny_pcd1 = bunny_mesh.sample_points_poisson_disk(num_points)\n",
    "sample = 15\n",
    "bunny_pcd1.uniform_down_sample(sample)\n",
    "p1 = np.asarray(bunny_pcd1.points)\n",
    "num_points = p1.shape[0]\n",
    "\n",
    "color = np.zeros((num_points,3))\n",
    "color[:] = [0,1,0]\n",
    "bunny_pcd1.colors = o3d.utility.Vector3dVector(color)\n",
    "\n",
    "p2 = np.matmul(p1,T[:3,:3].T) + T[:3,3]\n",
    "\n",
    "bunny_pcd2 = o3d.geometry.PointCloud()\n",
    "bunny_pcd2.points = o3d.utility.Vector3dVector(p2)\n",
    "color = np.zeros((num_points,3))\n",
    "color[:] = [1,0,0]\n",
    "bunny_pcd2.colors = o3d.utility.Vector3dVector(color)"
   ]
  },
  {
   "cell_type": "code",
   "execution_count": 59,
   "id": "a05cefa2",
   "metadata": {},
   "outputs": [],
   "source": [
    "def get_nearest_points(p1,p2,tree):\n",
    "    p2_new = np.empty(p1.shape)\n",
    "    for i,point in enumerate(p1):\n",
    "        dist , ind = tree.query(p1[i,None],k=1)\n",
    "        p2_new[i] = p2[ind]\n",
    "    return p2_new"
   ]
  },
  {
   "cell_type": "code",
   "execution_count": 60,
   "id": "fc991f89",
   "metadata": {},
   "outputs": [
    {
     "name": "stdout",
     "output_type": "stream",
     "text": [
      "0th epoch completed\n",
      "Loss :99.80603340356672\n",
      "1th epoch completed\n",
      "Loss :72.17766154504885\n",
      "2th epoch completed\n",
      "Loss :59.5669030254757\n",
      "3th epoch completed\n",
      "Loss :51.56266978666066\n",
      "4th epoch completed\n",
      "Loss :45.212652898544896\n",
      "5th epoch completed\n",
      "Loss :39.29941851390595\n",
      "6th epoch completed\n",
      "Loss :33.57521496752284\n",
      "7th epoch completed\n",
      "Loss :28.39928796689786\n",
      "8th epoch completed\n",
      "Loss :23.943234800186257\n",
      "9th epoch completed\n",
      "Loss :20.11361995898551\n",
      "10th epoch completed\n",
      "Loss :16.78295388330233\n",
      "11th epoch completed\n",
      "Loss :13.968505398404757\n",
      "12th epoch completed\n",
      "Loss :11.654772230974213\n",
      "13th epoch completed\n",
      "Loss :9.728017045912177\n",
      "14th epoch completed\n",
      "Loss :8.050378563990247\n",
      "15th epoch completed\n",
      "Loss :6.599819484345021\n",
      "16th epoch completed\n",
      "Loss :5.374995036730503\n",
      "17th epoch completed\n",
      "Loss :4.316586194556905\n",
      "18th epoch completed\n",
      "Loss :3.4161804136036746\n",
      "19th epoch completed\n",
      "Loss :2.663116560467462\n",
      "20th epoch completed\n",
      "Loss :2.050722156649127\n",
      "21th epoch completed\n",
      "Loss :1.5541928360219484\n",
      "22th epoch completed\n",
      "Loss :1.154595746602708\n",
      "23th epoch completed\n",
      "Loss :0.8372495038974247\n",
      "24th epoch completed\n",
      "Loss :0.5933016203397629\n",
      "25th epoch completed\n",
      "Loss :0.4141368390321708\n",
      "26th epoch completed\n",
      "Loss :0.28718199630328267\n",
      "27th epoch completed\n",
      "Loss :0.19915000157619012\n",
      "28th epoch completed\n",
      "Loss :0.13734582798991835\n",
      "29th epoch completed\n",
      "Loss :0.09430308668138304\n"
     ]
    },
    {
     "data": {
      "image/png": "[encoded data removed]",
      "text/plain": [
       "<Figure size 576x576 with 1 Axes>"
      ]
     },
     "metadata": {
      "needs_background": "light"
     },
     "output_type": "display_data"
    }
   ],
   "source": [
    "epoch = 30\n",
    "loss_history = []\n",
    "def icp_align(p1,p2):\n",
    "    tree = KDTree(p2, leaf_size=2)\n",
    "    T_final = np.eye(4)\n",
    "    for i in range(epoch):\n",
    "        p2_ = get_nearest_points(p1,p2,tree)\n",
    "        T = procrustes(p1,p2_)\n",
    "        p1 = np.matmul(p1,T[:3,:3].T) + T[:3,3]\n",
    "        T_final = np.matmul(T,T_final)\n",
    "        loss_history.append(np.sum((p1-p2)**2))\n",
    "\n",
    "        print(f\"{i}th epoch completed\")\n",
    "        print(f\"Loss :{np.sum((p1-p2)**2)}\")\n",
    "    \n",
    "    return T_final\n",
    "\n",
    "### point clouds before alignment ###\n",
    "cf1 = o3d.geometry.TriangleMesh.create_coordinate_frame(size=0.1,origin=bunny_pcd1.get_center())\n",
    "cf2 = o3d.geometry.TriangleMesh.create_coordinate_frame(size=0.1,origin=bunny_pcd2.get_center())\n",
    "custom_visualize([cf1,bunny_pcd1,cf2,bunny_pcd2])\n",
    "\n",
    "T_comp = icp_align(p1,p2)\n",
    "bunny_pcd1.transform(T_comp)\n",
    "plt.figure(figsize=(8,8))\n",
    "plt.plot(loss_history)\n",
    "plt.title('Loss history')\n",
    "plt.xlabel('iterations')\n",
    "plt.ylabel('Loss')\n",
    "\n",
    "### point clouds after alignment ###\n",
    "bunny_pcd1.points = o3d.utility.Vector3dVector(p1)\n",
    "bunny_pcd2.points = o3d.utility.Vector3dVector(p2)\n",
    "cf1 = o3d.geometry.TriangleMesh.create_coordinate_frame(size=0.01,origin=bunny_pcd1.get_center())\n",
    "cf2 = o3d.geometry.TriangleMesh.create_coordinate_frame(size=0.01,origin=bunny_pcd2.get_center())\n",
    "custom_visualize([cf1,bunny_pcd1,cf2,bunny_pcd2])"
   ]
  },
  {
   "cell_type": "markdown",
   "id": "2ecbebe5",
   "metadata": {},
   "source": [
    "### Before ICP\n",
    "<img src=\"./helpers/2.png\">\n",
    "\n",
    "### After ICP\n",
    "<img src=\"./helpers/3.png\">"
   ]
  },
  {
   "cell_type": "code",
   "execution_count": 62,
   "id": "e7c52a85",
   "metadata": {},
   "outputs": [
    {
     "name": "stdout",
     "output_type": "stream",
     "text": [
      "Transformation Matrix Error: 0.0041624932921011226\n"
     ]
    }
   ],
   "source": [
    "print(f\"Transformation Matrix Error: {np.sum((T_comp - T)**2)}\" )"
   ]
  },
  {
   "cell_type": "markdown",
   "id": "bf4e7c6d",
   "metadata": {},
   "source": [
    "#### 3."
   ]
  },
  {
   "cell_type": "markdown",
   "id": "b72f63ef",
   "metadata": {},
   "source": [
    "No , This happens due to noise and unknown correspondence.\n",
    "However if the initial correspondence was close enough then it will converge quickly and give a correct answer."
   ]
  },
  {
   "cell_type": "markdown",
   "id": "374695e2",
   "metadata": {},
   "source": [
    "#### 4."
   ]
  },
  {
   "cell_type": "markdown",
   "id": "53eefe83",
   "metadata": {},
   "source": [
    "We compute the point to point distance like regular ICP but then project this onto the normal and take correspondences using using this.\n",
    "\n",
    "This results in faster convergence.\n",
    "<img src='./helpers/1.png' >\n",
    "The dotted lines are closest point , the hard line is the normal giving the correspondence."
   ]
  }
 ],
 "metadata": {
  "kernelspec": {
   "display_name": "Python 3",
   "language": "python",
   "name": "python3"
  },
  "language_info": {
   "codemirror_mode": {
    "name": "ipython",
    "version": 3
   },
   "file_extension": ".py",
   "mimetype": "text/x-python",
   "name": "python",
   "nbconvert_exporter": "python",
   "pygments_lexer": "ipython3",
   "version": "3.8.10"
  }
 },
 "nbformat": 4,
 "nbformat_minor": 5
}
